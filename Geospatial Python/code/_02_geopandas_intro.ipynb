{
 "cells": [
  {
   "cell_type": "markdown",
   "id": "cbf36055",
   "metadata": {},
   "source": [
    "# Intro to GeoPandas"
   ]
  },
  {
   "cell_type": "markdown",
   "id": "8a9c165c",
   "metadata": {},
   "source": [
    "This jupyter notebook is heavily based on Sebastian Hohmann's GIS course"
   ]
  },
  {
   "cell_type": "markdown",
   "id": "6b4d8b5c",
   "metadata": {},
   "source": [
    "[GeoPandas](https://geopandas.org/) adds a `geometry` data-type to pandas to allow manipulation of feature data. The `geometry` objects in the rows of a `geopandas` dataframe are `shapely` objects (`Point`, `LineString` and `Polygon`, as well as Geometry collections). Currently `geopandas` is in the process of converting its interal geometric operations such that they make use of the [PyGEOS](https://pygeos.readthedocs.io/en/latest/) module, which allows for faster, vectorized operations on arrays of geometries. For now, the use of `PyGEOS` is still experimental and we will be using the `shapely` based version of `geopandas`.  "
   ]
  },
  {
   "cell_type": "code",
   "execution_count": null,
   "id": "b9c286d8",
   "metadata": {},
   "outputs": [],
   "source": [
    "import geopandas as gpd"
   ]
  },
  {
   "cell_type": "markdown",
   "id": "eebf0833",
   "metadata": {},
   "source": [
    "reading in a dataframe"
   ]
  },
  {
   "cell_type": "code",
   "execution_count": null,
   "id": "b5df5635",
   "metadata": {},
   "outputs": [],
   "source": [
    "df = gpd.read_file('../data/ne_10m_admin_0_countries/ne_10m_admin_0_countries.shp')"
   ]
  },
  {
   "cell_type": "code",
   "execution_count": null,
   "id": "dd7b0159",
   "metadata": {},
   "outputs": [],
   "source": [
    "df.columns"
   ]
  },
  {
   "cell_type": "code",
   "execution_count": null,
   "id": "8bcbb37d",
   "metadata": {},
   "outputs": [],
   "source": [
    "df.shape"
   ]
  },
  {
   "cell_type": "code",
   "execution_count": null,
   "id": "2f6bad51",
   "metadata": {},
   "outputs": [],
   "source": [
    "df.drop_duplicates(subset='ne_10m_adm').shape"
   ]
  },
  {
   "cell_type": "code",
   "execution_count": null,
   "id": "1d0de166",
   "metadata": {},
   "outputs": [],
   "source": [
    "df = df[['ne_10m_adm', 'ADMIN', 'geometry']].copy()\n",
    "df.columns = ['iso', 'country', 'geometry']"
   ]
  },
  {
   "cell_type": "code",
   "execution_count": null,
   "id": "836c1974",
   "metadata": {},
   "outputs": [],
   "source": [
    "df"
   ]
  },
  {
   "cell_type": "markdown",
   "id": "f802c612",
   "metadata": {},
   "source": [
    "- note the `geometry` column\n",
    "- contains both `POLYGON` and `MULTIPOLYGON` entries\n",
    "- these are `shapely` objects!"
   ]
  },
  {
   "cell_type": "markdown",
   "id": "7cc5e5e2",
   "metadata": {},
   "source": [
    "Since this is a `pandas` dataframe, we can select rows in all the ways we already know. For example"
   ]
  },
  {
   "cell_type": "code",
   "execution_count": null,
   "id": "bfb40579",
   "metadata": {},
   "outputs": [],
   "source": [
    "df[df.iso=='CHE']"
   ]
  },
  {
   "cell_type": "markdown",
   "id": "567a555e",
   "metadata": {},
   "source": [
    "We can convince ourselves that these are indeed `shapely` geometries"
   ]
  },
  {
   "cell_type": "code",
   "execution_count": null,
   "id": "8d576b15",
   "metadata": {},
   "outputs": [],
   "source": [
    "df[df.iso=='CHE'].geometry.values[0]"
   ]
  },
  {
   "cell_type": "code",
   "execution_count": null,
   "id": "1d0677f0",
   "metadata": {},
   "outputs": [],
   "source": [
    "type(df[df.iso=='CHE'].geometry.values[0])"
   ]
  },
  {
   "cell_type": "markdown",
   "id": "1c726fd8",
   "metadata": {},
   "source": [
    "`geopandas` makes use of [Matplotlib](https://matplotlib.org/), the main plotting library in python, to visualize dataframes. This is very simple"
   ]
  },
  {
   "cell_type": "code",
   "execution_count": null,
   "id": "882db103",
   "metadata": {},
   "outputs": [],
   "source": [
    "df.plot(figsize=(10, 6))"
   ]
  },
  {
   "cell_type": "markdown",
   "id": "30794fbf",
   "metadata": {},
   "source": [
    "Since we have shapely geometries, we can calculate their areas"
   ]
  },
  {
   "cell_type": "code",
   "execution_count": null,
   "id": "adae89dd",
   "metadata": {},
   "outputs": [],
   "source": [
    "df[df.iso=='CHE'].geometry.values[0].area"
   ]
  },
  {
   "cell_type": "code",
   "execution_count": null,
   "id": "add81222",
   "metadata": {},
   "outputs": [],
   "source": [
    "df[df.iso=='USA'].geometry.values[0].area"
   ]
  },
  {
   "cell_type": "code",
   "execution_count": null,
   "id": "7b65cac8",
   "metadata": {},
   "outputs": [],
   "source": [
    "df[df.iso=='CAN'].geometry.values[0].area"
   ]
  },
  {
   "cell_type": "code",
   "execution_count": null,
   "id": "33e3c989",
   "metadata": {},
   "outputs": [],
   "source": [
    "df[df.iso=='CHN'].geometry.values[0].area"
   ]
  },
  {
   "cell_type": "markdown",
   "id": "ebbfc4bc",
   "metadata": {},
   "source": [
    "something is off... \n",
    "It's the projection! We are in a geographic CRS. To do meaningful area calculations, we have to project the data."
   ]
  },
  {
   "cell_type": "code",
   "execution_count": null,
   "id": "47c2fc3d",
   "metadata": {},
   "outputs": [],
   "source": [
    "df.crs"
   ]
  },
  {
   "cell_type": "markdown",
   "id": "42235131",
   "metadata": {},
   "source": [
    "We will cover map projections in the next section.\n",
    "\n",
    "There is a lot you can do with geopandas. The best way to learn is to go over some examples that solve concrete problems. "
   ]
  }
 ],
 "metadata": {
  "kernelspec": {
   "display_name": "Python 3 (ipykernel)",
   "language": "python",
   "name": "python3"
  },
  "language_info": {
   "codemirror_mode": {
    "name": "ipython",
    "version": 3
   },
   "file_extension": ".py",
   "mimetype": "text/x-python",
   "name": "python",
   "nbconvert_exporter": "python",
   "pygments_lexer": "ipython3",
   "version": "3.7.13"
  }
 },
 "nbformat": 4,
 "nbformat_minor": 5
}
