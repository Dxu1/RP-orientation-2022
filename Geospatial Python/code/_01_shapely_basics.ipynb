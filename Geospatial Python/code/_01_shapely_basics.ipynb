{
 "cells": [
  {
   "cell_type": "markdown",
   "id": "dddb82bc",
   "metadata": {},
   "source": [
    "# Quick intro to Shapely"
   ]
  },
  {
   "cell_type": "markdown",
   "id": "d6d1f0da",
   "metadata": {},
   "source": [
    "This jupyter notebook is heavily based on Sebastian Hohmann's GIS course"
   ]
  },
  {
   "cell_type": "markdown",
   "id": "b232983b",
   "metadata": {},
   "source": [
    "Contents:\n",
    "- [1 Overview](#1-Overview)\n",
    "- [2 Points](#2-Points)\n",
    "  - [2.1 Defining points](#2.1-Defining-points)\n",
    "  - [2.2 Getting co-ordinates](#2.2-Getting-co-ordinates)\n",
    "  - [2.3 Calculating distances between points](#2.3-Calculating-distances-between-points)\n",
    "- [3 Lines](#3-Lines)\n",
    "  - [3.1 Defining lines](#3.1-Defining-lines)\n",
    "  - [3.2 Getting co-ordinates, computing length](#3.2-Getting-co-ordinates,-computing-length)\n",
    "- [4 Polygons](#4-Polygons)\n",
    "  - [4.1 Defining Polygons](#4.1-Defining-Polygons)\n",
    "  - [4.2 Getting bounds, envelope, exterior, area, centroid](#4.2-Getting-bounds,-envelope,-exterior,-area,-centroid)\n",
    "    - [4.2.1 bounds](#4.2.1-bounds)\n",
    "  - [4.2.2 envelope](#4.2.2-envelope)\n",
    "    - [4.2.3 exterior](#4.2.3-exterior)\n",
    "    - [4.2.4 area](#4.2.4-area)\n",
    "    - [4.2.5 centroid](#4.2.5-centroid)\n",
    "- [5 Geometry collections](#5-Geometry-collections)"
   ]
  },
  {
   "cell_type": "code",
   "execution_count": null,
   "id": "3947177f",
   "metadata": {},
   "outputs": [],
   "source": [
    "from shapely.geometry import Point, LineString, Polygon"
   ]
  },
  {
   "cell_type": "markdown",
   "id": "263a36d9",
   "metadata": {},
   "source": [
    "# 1 Overview"
   ]
  },
  {
   "cell_type": "markdown",
   "id": "25f463e6",
   "metadata": {},
   "source": [
    "[Shapely](https://shapely.readthedocs.io/en/stable/manual.html) is a library for geometric objects. Fundamental types are\n",
    "- `Points`\n",
    "- `Lines`\n",
    "- `Polygons`\n",
    "\n",
    "Shapely can \n",
    "- create `Lines` or `Polygons` from `Collections` of `Points`\n",
    "- calculate things like lengths and areas\n",
    "- do geometric operations like `Union`, `Difference`, `Distance`\n",
    "- do spatial queries between geometries like `Intersects`, `Touches`, `Within`\n",
    "\n",
    "Geometric objects are tuples\n",
    "- `Points` can be 2-D (x, y) or 3-D (x, y, z)\n",
    "- `LineString` are sequence of points joined together (i.e. at least two co-ordinate tuples)\n",
    "- `Polygon` filled area of at least 3 co-ordinate tuples\n",
    "\n",
    "Geometric collections\n",
    "- `MultiPoint`, `MultiLineString` and `MultiPolygon` are collections of `Point`, `LineString` and `Polygon` objects (i.e. they consist of multiple parts of the these types of objects)"
   ]
  },
  {
   "cell_type": "markdown",
   "id": "2cf735f0",
   "metadata": {},
   "source": [
    "# 2 Points"
   ]
  },
  {
   "cell_type": "markdown",
   "id": "e4b79de4",
   "metadata": {},
   "source": [
    "## 2.1 Defining points"
   ]
  },
  {
   "cell_type": "code",
   "execution_count": null,
   "id": "e51e2a7e",
   "metadata": {},
   "outputs": [],
   "source": [
    "p1 = Point(1, 1)\n",
    "p2 = Point(2, 3)\n",
    "p3 = Point(4, -2)"
   ]
  },
  {
   "cell_type": "code",
   "execution_count": null,
   "id": "4e638288",
   "metadata": {},
   "outputs": [],
   "source": [
    "p1"
   ]
  },
  {
   "cell_type": "code",
   "execution_count": null,
   "id": "0bc6cb81",
   "metadata": {},
   "outputs": [],
   "source": [
    "type(p1)"
   ]
  },
  {
   "cell_type": "code",
   "execution_count": null,
   "id": "7a8c24c3",
   "metadata": {},
   "outputs": [],
   "source": [
    "p1.geom_type"
   ]
  },
  {
   "cell_type": "markdown",
   "id": "5c57c9ce",
   "metadata": {},
   "source": [
    "## 2.2 Getting co-ordinates"
   ]
  },
  {
   "cell_type": "code",
   "execution_count": null,
   "id": "7fe9a709",
   "metadata": {},
   "outputs": [],
   "source": [
    "p2.coords.xy"
   ]
  },
  {
   "cell_type": "code",
   "execution_count": null,
   "id": "2c2fe58d",
   "metadata": {},
   "outputs": [],
   "source": [
    "p2.x"
   ]
  },
  {
   "cell_type": "code",
   "execution_count": null,
   "id": "00313626",
   "metadata": {},
   "outputs": [],
   "source": [
    "p2.y"
   ]
  },
  {
   "cell_type": "markdown",
   "id": "d5b03b6e",
   "metadata": {},
   "source": [
    "## 2.3 Calculating distances between points"
   ]
  },
  {
   "cell_type": "code",
   "execution_count": null,
   "id": "7e93e257",
   "metadata": {},
   "outputs": [],
   "source": [
    "p1.distance(p2)"
   ]
  },
  {
   "cell_type": "markdown",
   "id": "9c8cbfb7",
   "metadata": {},
   "source": [
    "we can also do this manually"
   ]
  },
  {
   "cell_type": "code",
   "execution_count": null,
   "id": "456dfb10",
   "metadata": {},
   "outputs": [],
   "source": [
    "((p1.x - p2.x) ** 2 + (p1.y - p2.y) ** 2) ** 0.5"
   ]
  },
  {
   "cell_type": "markdown",
   "id": "cdb0e6ac",
   "metadata": {},
   "source": [
    "# 3 Lines"
   ]
  },
  {
   "cell_type": "markdown",
   "id": "0d485392",
   "metadata": {},
   "source": [
    "## 3.1 Defining lines"
   ]
  },
  {
   "cell_type": "markdown",
   "id": "cb4d08ac",
   "metadata": {},
   "source": [
    "Lines can be defined from \n",
    "- coordinates\n",
    "- `Point` objects"
   ]
  },
  {
   "cell_type": "code",
   "execution_count": null,
   "id": "b1ceeb63",
   "metadata": {},
   "outputs": [],
   "source": [
    "l1 = LineString([p1, p2, p3])\n",
    "l2 = LineString([(3.2, 1.6), (-2.7, 8.2)])"
   ]
  },
  {
   "cell_type": "code",
   "execution_count": null,
   "id": "b9a593f7",
   "metadata": {},
   "outputs": [],
   "source": [
    "l1"
   ]
  },
  {
   "cell_type": "code",
   "execution_count": null,
   "id": "b5c4c5b7",
   "metadata": {},
   "outputs": [],
   "source": [
    "l2"
   ]
  },
  {
   "cell_type": "code",
   "execution_count": null,
   "id": "1bd0d7ab",
   "metadata": {},
   "outputs": [],
   "source": [
    "l1.geom_type"
   ]
  },
  {
   "cell_type": "markdown",
   "id": "9bf0d993",
   "metadata": {},
   "source": [
    "## 3.2 Getting co-ordinates, computing length"
   ]
  },
  {
   "cell_type": "code",
   "execution_count": null,
   "id": "60d8776e",
   "metadata": {},
   "outputs": [],
   "source": [
    "l1.xy"
   ]
  },
  {
   "cell_type": "code",
   "execution_count": null,
   "id": "49e98778",
   "metadata": {},
   "outputs": [],
   "source": [
    "l1.xy[0]"
   ]
  },
  {
   "cell_type": "code",
   "execution_count": null,
   "id": "a020dd7a",
   "metadata": {},
   "outputs": [],
   "source": [
    "l1.length"
   ]
  },
  {
   "cell_type": "markdown",
   "id": "bfc99d30",
   "metadata": {},
   "source": [
    "Once again, we can use the pythagorean theorem to compute the length ourselves"
   ]
  },
  {
   "cell_type": "code",
   "execution_count": null,
   "id": "54ba1d5d",
   "metadata": {},
   "outputs": [],
   "source": [
    "(((l1.xy[0][0] - l1.xy[0][1]) ** 2 +\n",
    " (l1.xy[1][0] - l1.xy[1][1]) ** 2) ** 0.5 +\n",
    " ((l1.xy[0][1] - l1.xy[0][2]) ** 2 +\n",
    " (l1.xy[1][1] - l1.xy[1][2]) ** 2) ** 0.5)"
   ]
  },
  {
   "cell_type": "markdown",
   "id": "950c7278",
   "metadata": {},
   "source": [
    "# 4 Polygons"
   ]
  },
  {
   "cell_type": "markdown",
   "id": "4b4f2668",
   "metadata": {},
   "source": [
    "## 4.1 Defining Polygons\n",
    "\n",
    "Once again, we can define polygons from existing `Point` objects or by listing their vertices"
   ]
  },
  {
   "cell_type": "code",
   "execution_count": null,
   "id": "b206ad80",
   "metadata": {},
   "outputs": [],
   "source": [
    "pol1 = Polygon([p1, p2, p3])\n",
    "pol2 = Polygon([(3.2, 1.6), (-2.7, 8.2), (5.5, 5.5), (8.2, 8.2)])"
   ]
  },
  {
   "cell_type": "code",
   "execution_count": null,
   "id": "55ff8bd6",
   "metadata": {},
   "outputs": [],
   "source": [
    "pol1"
   ]
  },
  {
   "cell_type": "code",
   "execution_count": null,
   "id": "e677d306",
   "metadata": {},
   "outputs": [],
   "source": [
    "pol2"
   ]
  },
  {
   "cell_type": "code",
   "execution_count": null,
   "id": "c5b97b0a",
   "metadata": {},
   "outputs": [],
   "source": [
    "print(pol1)"
   ]
  },
  {
   "cell_type": "markdown",
   "id": "190a0437",
   "metadata": {},
   "source": [
    "Note the double parentheses. this is because polygons can have holes:"
   ]
  },
  {
   "cell_type": "code",
   "execution_count": null,
   "id": "d1b7e070",
   "metadata": {},
   "outputs": [],
   "source": [
    "exterior = [(-180, 90), (-180, -90), (180, -90), (180, 90)]\n",
    "hole = [(x*0.8, y*0.8) for x, y in exterior]\n",
    "exterior_poly = Polygon(exterior)\n",
    "poly_with_hole = Polygon(shell=exterior, holes=[hole])"
   ]
  },
  {
   "cell_type": "code",
   "execution_count": null,
   "id": "ff2a9081",
   "metadata": {},
   "outputs": [],
   "source": [
    "poly_with_hole"
   ]
  },
  {
   "cell_type": "code",
   "execution_count": null,
   "id": "2a3a0fee",
   "metadata": {},
   "outputs": [],
   "source": [
    "print(poly_with_hole)"
   ]
  },
  {
   "cell_type": "markdown",
   "id": "4569109d",
   "metadata": {},
   "source": [
    "## 4.2 Getting bounds, envelope, exterior, area, centroid"
   ]
  },
  {
   "cell_type": "markdown",
   "id": "b41d4bff",
   "metadata": {},
   "source": [
    "### 4.2.1 bounds"
   ]
  },
  {
   "cell_type": "markdown",
   "id": "599cdf59",
   "metadata": {},
   "source": [
    "Recall that we had defined `pol1` from `p1`, `p2`, `p3`. "
   ]
  },
  {
   "cell_type": "code",
   "execution_count": null,
   "id": "8f930abe",
   "metadata": {},
   "outputs": [],
   "source": [
    "for p in [p1, p2, p3]:\n",
    "    print(p.xy)"
   ]
  },
  {
   "cell_type": "code",
   "execution_count": null,
   "id": "c958b098",
   "metadata": {},
   "outputs": [],
   "source": [
    "pol1.bounds"
   ]
  },
  {
   "cell_type": "code",
   "execution_count": null,
   "id": "1b801228",
   "metadata": {},
   "outputs": [],
   "source": [
    "?pol1.bounds"
   ]
  },
  {
   "cell_type": "markdown",
   "id": "46f66532",
   "metadata": {},
   "source": [
    "## 4.2.2 envelope"
   ]
  },
  {
   "cell_type": "code",
   "execution_count": null,
   "id": "239ad6ac",
   "metadata": {},
   "outputs": [],
   "source": [
    "pol1.envelope"
   ]
  },
  {
   "cell_type": "code",
   "execution_count": null,
   "id": "c547abb8",
   "metadata": {},
   "outputs": [],
   "source": [
    "?pol1.envelope"
   ]
  },
  {
   "cell_type": "markdown",
   "id": "77524210",
   "metadata": {},
   "source": [
    "### 4.2.3 exterior"
   ]
  },
  {
   "cell_type": "code",
   "execution_count": null,
   "id": "19013a7f",
   "metadata": {},
   "outputs": [],
   "source": [
    "pol1.exterior"
   ]
  },
  {
   "cell_type": "code",
   "execution_count": null,
   "id": "382a93fd",
   "metadata": {},
   "outputs": [],
   "source": [
    "pol1.exterior.xy"
   ]
  },
  {
   "cell_type": "code",
   "execution_count": null,
   "id": "6be06e8a",
   "metadata": {},
   "outputs": [],
   "source": [
    "pol1.envelope.exterior.xy"
   ]
  },
  {
   "cell_type": "markdown",
   "id": "a3e74d1a",
   "metadata": {},
   "source": [
    "### 4.2.4 area"
   ]
  },
  {
   "cell_type": "code",
   "execution_count": null,
   "id": "ea3cfc9d",
   "metadata": {},
   "outputs": [],
   "source": [
    "pol1.area"
   ]
  },
  {
   "cell_type": "markdown",
   "id": "dbf986d5",
   "metadata": {},
   "source": [
    "This is a simple triangle, so we could easily find its area. For more general shapes, there is the [Shoelace Formula](https://en.wikipedia.org/wiki/Shoelace_formula)"
   ]
  },
  {
   "cell_type": "code",
   "execution_count": null,
   "id": "f0042647",
   "metadata": {},
   "outputs": [],
   "source": [
    "def area_shoelace(p, is_area=True):\n",
    "    x, y = p.exterior.xy[0], p.exterior.xy[1]\n",
    "    A = 0.5 * sum([x[i]*y[i+1] - x[i+1]*y[i] for i in range(len(x)-1)])\n",
    "    if is_area:\n",
    "        return abs(A)\n",
    "    else:\n",
    "        return A"
   ]
  },
  {
   "cell_type": "code",
   "execution_count": null,
   "id": "b85132f2",
   "metadata": {},
   "outputs": [],
   "source": [
    "area_shoelace(pol1)"
   ]
  },
  {
   "cell_type": "code",
   "execution_count": null,
   "id": "c395e94a",
   "metadata": {},
   "outputs": [],
   "source": [
    "pol2.area"
   ]
  },
  {
   "cell_type": "code",
   "execution_count": null,
   "id": "b532dfee",
   "metadata": {},
   "outputs": [],
   "source": [
    "area_shoelace(pol2)"
   ]
  },
  {
   "cell_type": "markdown",
   "id": "bd10da7e",
   "metadata": {},
   "source": [
    "### 4.2.5 centroid"
   ]
  },
  {
   "cell_type": "code",
   "execution_count": null,
   "id": "f03aca06",
   "metadata": {},
   "outputs": [],
   "source": [
    "pol1.centroid"
   ]
  },
  {
   "cell_type": "code",
   "execution_count": null,
   "id": "02373c23",
   "metadata": {},
   "outputs": [],
   "source": [
    "pol1.centroid.xy"
   ]
  },
  {
   "cell_type": "code",
   "execution_count": null,
   "id": "0fbc5e76",
   "metadata": {},
   "outputs": [],
   "source": [
    "pol2.centroid.xy"
   ]
  },
  {
   "cell_type": "markdown",
   "id": "449e4535",
   "metadata": {},
   "source": [
    "Once again, we can calculate this from scratch"
   ]
  },
  {
   "cell_type": "code",
   "execution_count": null,
   "id": "d1694e7f",
   "metadata": {},
   "outputs": [],
   "source": [
    "def centroid_from_scratch(p):\n",
    "    \n",
    "    '''\n",
    "    https://en.wikipedia.org/wiki/Centroid#Of_a_polygon\n",
    "    '''\n",
    "    x, y = p.exterior.xy[0], p.exterior.xy[1]\n",
    "    A = area_shoelace(p, is_area=False)\n",
    "    Cx = (1/(6*A)) * sum([(x[i] + x[i+1])*(x[i]*y[i+1] - x[i+1]*y[i]) for i in range(len(x)-1)])\n",
    "    Cy = (1/(6*A)) * sum([(y[i] + y[i+1])*(x[i]*y[i+1] - x[i+1]*y[i]) for i in range(len(x)-1)])\n",
    "    return Cx, Cy"
   ]
  },
  {
   "cell_type": "code",
   "execution_count": null,
   "id": "8b59a66a",
   "metadata": {},
   "outputs": [],
   "source": [
    "centroid_from_scratch(pol1)"
   ]
  },
  {
   "cell_type": "code",
   "execution_count": null,
   "id": "4a131575",
   "metadata": {},
   "outputs": [],
   "source": [
    "centroid_from_scratch(pol2)"
   ]
  },
  {
   "cell_type": "markdown",
   "id": "68e3a5d9",
   "metadata": {},
   "source": [
    "# 5 Geometry collections"
   ]
  },
  {
   "cell_type": "markdown",
   "id": "a9875d80",
   "metadata": {},
   "source": [
    "We can have collections of `Point`s, `LineString`s and `Polygon`s in a GeoPandas `geometry` field. So it is good to know about them"
   ]
  },
  {
   "cell_type": "code",
   "execution_count": null,
   "id": "3705f339",
   "metadata": {},
   "outputs": [],
   "source": [
    "from shapely.geometry import MultiPoint, MultiLineString, MultiPolygon"
   ]
  },
  {
   "cell_type": "code",
   "execution_count": null,
   "id": "51ce8bc0",
   "metadata": {},
   "outputs": [],
   "source": [
    "mpt = MultiPoint([p1, p2, p3])\n",
    "mln = MultiLineString([l1, l2])\n",
    "mpo = MultiPolygon([pol1, pol2])"
   ]
  },
  {
   "cell_type": "code",
   "execution_count": null,
   "id": "4f8c59aa",
   "metadata": {},
   "outputs": [],
   "source": [
    "mpt"
   ]
  },
  {
   "cell_type": "code",
   "execution_count": null,
   "id": "d7ff9ef2",
   "metadata": {},
   "outputs": [],
   "source": [
    "print(mpt)"
   ]
  },
  {
   "cell_type": "code",
   "execution_count": null,
   "id": "a607b4e8",
   "metadata": {},
   "outputs": [],
   "source": [
    "mln"
   ]
  },
  {
   "cell_type": "code",
   "execution_count": null,
   "id": "8d70481d",
   "metadata": {},
   "outputs": [],
   "source": [
    "print(mln)"
   ]
  },
  {
   "cell_type": "code",
   "execution_count": null,
   "id": "671661e0",
   "metadata": {},
   "outputs": [],
   "source": [
    "mpo"
   ]
  },
  {
   "cell_type": "code",
   "execution_count": null,
   "id": "1ddad6f3",
   "metadata": {},
   "outputs": [],
   "source": [
    "print(mpo)"
   ]
  },
  {
   "cell_type": "markdown",
   "id": "b16e40c7",
   "metadata": {},
   "source": [
    "One nice method to know is the `convex_hull`. We can call this on any geometry collection"
   ]
  },
  {
   "cell_type": "code",
   "execution_count": null,
   "id": "427ea518",
   "metadata": {},
   "outputs": [],
   "source": [
    "mpt.convex_hull"
   ]
  },
  {
   "cell_type": "code",
   "execution_count": null,
   "id": "9e21444a",
   "metadata": {},
   "outputs": [],
   "source": [
    "mln.convex_hull"
   ]
  },
  {
   "cell_type": "code",
   "execution_count": null,
   "id": "5e869c4a",
   "metadata": {},
   "outputs": [],
   "source": [
    "mpo.convex_hull"
   ]
  },
  {
   "cell_type": "markdown",
   "id": "7858159d",
   "metadata": {},
   "source": [
    "One important property for `MultiPolygon`s is whether they are **valid** -- if their components do not intersect one another."
   ]
  },
  {
   "cell_type": "code",
   "execution_count": null,
   "id": "74fee5bc",
   "metadata": {},
   "outputs": [],
   "source": [
    "mpo.is_valid"
   ]
  },
  {
   "cell_type": "markdown",
   "id": "ff8197a0",
   "metadata": {},
   "source": [
    "Let's quickly define one that **is** valid"
   ]
  },
  {
   "cell_type": "code",
   "execution_count": null,
   "id": "eacd1ef9",
   "metadata": {},
   "outputs": [],
   "source": [
    "pol3 = Polygon([(3.2, 2.8), (-2.7, 8.2), (5.5, 5.5), (8.2, 8.2)])\n",
    "mpo2 = MultiPolygon([pol1, pol3])\n",
    "mpo2"
   ]
  },
  {
   "cell_type": "code",
   "execution_count": null,
   "id": "e0dc553e",
   "metadata": {},
   "outputs": [],
   "source": [
    "mpo2.is_valid"
   ]
  },
  {
   "cell_type": "code",
   "execution_count": null,
   "id": "8ffee32e",
   "metadata": {},
   "outputs": [],
   "source": []
  }
 ],
 "metadata": {
  "kernelspec": {
   "display_name": "Python 3 (ipykernel)",
   "language": "python",
   "name": "python3"
  },
  "language_info": {
   "codemirror_mode": {
    "name": "ipython",
    "version": 3
   },
   "file_extension": ".py",
   "mimetype": "text/x-python",
   "name": "python",
   "nbconvert_exporter": "python",
   "pygments_lexer": "ipython3",
   "version": "3.7.13"
  }
 },
 "nbformat": 4,
 "nbformat_minor": 5
}
