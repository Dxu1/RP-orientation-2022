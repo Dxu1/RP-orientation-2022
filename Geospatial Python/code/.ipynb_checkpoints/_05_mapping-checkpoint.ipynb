{
 "cells": [
  {
   "cell_type": "markdown",
   "metadata": {},
   "source": [
    "### Intro to geopandas and mapping\n",
    "\n",
    "shapefile -> https://www.arcgis.com/home/item.html?id=acb8cb18e7cd45c982086b6ef2bb5a62\n",
    "\n",
    "this is a shapefile of the Rajasthan state in India. It has 33 districts "
   ]
  },
  {
   "cell_type": "code",
   "execution_count": 2,
   "metadata": {},
   "outputs": [],
   "source": [
    "# import all relevant packages\n",
    "\n",
    "import numpy as np\n",
    "import pandas as pd\n",
    "import matplotlib.pyplot as plt\n",
    "import geopandas as gpd\n",
    "import seaborn as sns\n",
    "import os, sys\n",
    "\n",
    "USER = os.getenv(\"USER\")\n",
    "\n",
    "sns.set_context(\"poster\")"
   ]
  },
  {
   "cell_type": "code",
   "execution_count": null,
   "metadata": {},
   "outputs": [],
   "source": [
    "# set up paths\n",
    "input_dir = '/Users/nishka_sharma/Downloads/District_boundary'\n",
    "output_dir = '/Users/nishka_sharma/Desktop/EPIC Orientation'"
   ]
  },
  {
   "cell_type": "markdown",
   "metadata": {},
   "source": [
    "### Some basic exploration in geopandas"
   ]
  },
  {
   "cell_type": "code",
   "execution_count": null,
   "metadata": {},
   "outputs": [],
   "source": [
    "shp_file = gpd.read_file(f\"{input_dir}/District_Boundary.shp\")"
   ]
  },
  {
   "cell_type": "code",
   "execution_count": null,
   "metadata": {},
   "outputs": [],
   "source": [
    "shp_file.columns"
   ]
  },
  {
   "cell_type": "code",
   "execution_count": null,
   "metadata": {},
   "outputs": [],
   "source": [
    "shp_file.shape"
   ]
  },
  {
   "cell_type": "code",
   "execution_count": null,
   "metadata": {},
   "outputs": [],
   "source": [
    "# # create a copy of your dataframe and rename the columns\n",
    "# shp_file = df[['', '', 'geometry']].copy()\n",
    "# shp_file.columns = ['dist', 'state', 'geometry']"
   ]
  },
  {
   "cell_type": "code",
   "execution_count": null,
   "metadata": {},
   "outputs": [],
   "source": [
    "# simple example plot\n",
    "shp_file.plot(figsize=(9, 6))"
   ]
  },
  {
   "cell_type": "markdown",
   "metadata": {},
   "source": [
    "### Mapping\n",
    "\n",
    "Often we need to observe relationship in maps. Below is a heat map function based on a column in the data frame"
   ]
  },
  {
   "cell_type": "code",
   "execution_count": null,
   "metadata": {},
   "outputs": [],
   "source": [
    "# define a map function for your requirements\n",
    "\n",
    "def make_map(\n",
    "    df,\n",
    "    colname,\n",
    "    title,\n",
    "    name_file,\n",
    "    location,\n",
    "    figsize=(30, 20),\n",
    "    color_scale=\"YlOrRd\",\n",
    "    color_max=None,\n",
    "    color_min=None,\n",
    "    save_path=None,\n",
    "    maxmin=True,\n",
    "):\n",
    "    # some formatting\n",
    "    font = {\n",
    "        \"family\": \"serif\",\n",
    "        \"color\": \"black\",\n",
    "        \"weight\": \"normal\",\n",
    "        \"size\": 14,\n",
    "    }\n",
    "\n",
    "    # create figure\n",
    "    fig, ax = plt.subplots(figsize=figsize, facecolor=\"white\")\n",
    "\n",
    "    if color_max == None:\n",
    "        max_val = max(abs(df[colname].max()), abs(df[colname].min()))\n",
    "        color_min, color_max = -max_val, max_val\n",
    "\n",
    "    # add the colorbar to the figure\n",
    "    sm = plt.cm.ScalarMappable(\n",
    "        cmap=color_scale, norm=plt.Normalize(vmin=color_min, vmax=color_max)\n",
    "    )\n",
    "    fig.colorbar(sm, orientation=\"horizontal\", fraction=0.03, pad=0.02, aspect=20)\n",
    "    ax.figure.axes[1].tick_params(labelsize=14)\n",
    "\n",
    "    # Plotting function -- from geopandas\n",
    "    ax = df.plot(\n",
    "        column=colname,\n",
    "        cmap=color_scale,\n",
    "        edgecolor=\"face\",\n",
    "        norm=mpl.colors.Normalize(vmin=color_min, vmax=color_max),\n",
    "        ax=ax,\n",
    "    )\n",
    "    \n",
    "    # more formatting\n",
    "    fig.text(0.5, 0.08, title, ha=\"center\", va=\"center\", rotation=0, fontsize=18)\n",
    "\n",
    "    # annotate\n",
    "    ax.set_axis_off()\n",
    "    if maxmin == True:\n",
    "        plt.annotate(\n",
    "            text=f\"min: {df[colname].min()}, max: {df[colname].max()}\",\n",
    "            xy=location,\n",
    "            xycoords=\"axes fraction\",\n",
    "            fontsize=10,\n",
    "        )\n",
    "\n",
    "    #\n",
    "    if save_path != None:\n",
    "        os.makedirs(output_dir, exist_ok=True)\n",
    "        # fig.savefig(f\"{output_dir}/{name_file}\", dpi=200, bbox_inches=\"tight\")"
   ]
  },
  {
   "cell_type": "code",
   "execution_count": 3,
   "metadata": {},
   "outputs": [],
   "source": [
    "# run the function\n",
    "make_map(\n",
    "    df=shp_file,\n",
    "    colname='',\n",
    "    title=\"\",\n",
    "    name_file='',\n",
    "    location=(0.35, -0.2),\n",
    "    figsize=(30, 15),\n",
    "    color_scale=\"Spectral_r\",\n",
    "    color_max=shp_file.<colname>.max().values.item(),\n",
    "    color_min=shp_file.<colname>.min().values.item(),\n",
    "    save_path=f\"{output_dir}\",\n",
    "    maxmin=True,\n",
    ")"
   ]
  },
  {
   "cell_type": "markdown",
   "metadata": {},
   "source": [
    "#### Suppose you want to make boundaries on a certain region that satisfies some condition. Jaisalmer is the district with largest area in Rajasthan. Let's add a boundary around Jaisalmer"
   ]
  },
  {
   "cell_type": "code",
   "execution_count": null,
   "metadata": {},
   "outputs": [],
   "source": [
    "# map function again, but with a slight change \n",
    "\n",
    "def make_map(\n",
    "    df,\n",
    "    colname,\n",
    "    title,\n",
    "    name_file,\n",
    "    location,\n",
    "    figsize=(30, 15),\n",
    "    color_scale=\"YlOrRd\",\n",
    "    color_max=None,\n",
    "    color_min=None,\n",
    "    save_path=None,\n",
    "    maxmin=True,\n",
    "):\n",
    "    # some formatting\n",
    "    font = {\n",
    "        \"family\": \"serif\",\n",
    "        \"color\": \"black\",\n",
    "        \"weight\": \"normal\",\n",
    "        \"size\": 14,\n",
    "    }\n",
    "\n",
    "    # create figure\n",
    "    fig, ax = plt.subplots(figsize=figsize, facecolor=\"white\")\n",
    "\n",
    "    if color_max == None:\n",
    "        max_val = max(abs(df[colname].max()), abs(df[colname].min()))\n",
    "        color_min, color_max = -max_val, max_val\n",
    "\n",
    "    # add the colorbar to the figure\n",
    "    sm = plt.cm.ScalarMappable(\n",
    "        cmap=color_scale, norm=plt.Normalize(vmin=color_min, vmax=color_max)\n",
    "    )\n",
    "    fig.colorbar(sm, orientation=\"horizontal\", fraction=0.03, pad=0.02, aspect=20)\n",
    "    ax.figure.axes[1].tick_params(labelsize=14)\n",
    "\n",
    "    # Plotting function -- from geopandas\n",
    "    ax = df.plot(\n",
    "        column=colname,\n",
    "        cmap=color_scale,\n",
    "        edgecolor=\"face\",\n",
    "        norm=mpl.colors.Normalize(vmin=color_min, vmax=color_max),\n",
    "        ax=ax,\n",
    "    )\n",
    "    \n",
    "    # this line here adds a thick border around the region you want\n",
    "    df2.plot(ax=ax, linewidth=3, edgecolor='black')\n",
    "    \n",
    "    # more formatting\n",
    "    fig.text(0.5, 0.08, title, ha=\"center\", va=\"center\", rotation=0, fontsize=18)\n",
    "\n",
    "    # annotate\n",
    "    ax.set_axis_off()\n",
    "    if maxmin == True:\n",
    "        plt.annotate(\n",
    "            text=f\"min: {df[colname].min()}, max: {df[colname].max()}\",\n",
    "            xy=location,\n",
    "            xycoords=\"axes fraction\",\n",
    "            fontsize=10,\n",
    "        )\n",
    "\n",
    "    #\n",
    "    if save_path != None:\n",
    "        os.makedirs(output_dir, exist_ok=True)\n",
    "        # fig.savefig(f\"{output_dir}/{name_file}\", dpi=200, bbox_inches=\"tight\")"
   ]
  },
  {
   "cell_type": "code",
   "execution_count": null,
   "metadata": {},
   "outputs": [],
   "source": [
    "# make map\n",
    "ir=['JAISALMER']\n",
    "outline = shp_file[shp_file['DIST_NAME'].isin(ir)]\n",
    "\n",
    "make_map(\n",
    "    df=map,\n",
    "    df2=outline,\n",
    "    colname='',\n",
    "    title=\"\",\n",
    "    name_file='',\n",
    "    location=(0.35, -0.2),\n",
    "    figsize=(30, 15),\n",
    "    color_scale=\"Spectral_r\",\n",
    "    color_max=shp_file.<colname>.max().values.item(),\n",
    "    color_min=shp_file.<colname>.min().values.item(),\n",
    "    save_path=f\"{output_dir}\",\n",
    "    maxmin=True,\n",
    ")"
   ]
  },
  {
   "cell_type": "code",
   "execution_count": null,
   "metadata": {},
   "outputs": [],
   "source": []
  }
 ],
 "metadata": {
  "kernelspec": {
   "display_name": "Python 3 (ipykernel)",
   "language": "python",
   "name": "python3"
  },
  "language_info": {
   "codemirror_mode": {
    "name": "ipython",
    "version": 3
   },
   "file_extension": ".py",
   "mimetype": "text/x-python",
   "name": "python",
   "nbconvert_exporter": "python",
   "pygments_lexer": "ipython3",
   "version": "3.7.13"
  }
 },
 "nbformat": 4,
 "nbformat_minor": 4
}
