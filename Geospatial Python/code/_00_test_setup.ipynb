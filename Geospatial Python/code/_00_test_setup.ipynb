{
 "cells": [
  {
   "cell_type": "markdown",
   "id": "3fd4f799",
   "metadata": {},
   "source": [
    "# Very basic commands\n",
    "\n",
    "### Load packages:"
   ]
  },
  {
   "cell_type": "code",
   "execution_count": null,
   "id": "79537c91",
   "metadata": {},
   "outputs": [],
   "source": [
    "import pandas as pd\n",
    "import geopandas as gpd"
   ]
  },
  {
   "cell_type": "markdown",
   "id": "de81cc4d",
   "metadata": {},
   "source": [
    "### Load a shapefile and plot:"
   ]
  },
  {
   "cell_type": "code",
   "execution_count": null,
   "id": "0f6cda97",
   "metadata": {},
   "outputs": [],
   "source": [
    "file_path = '../data/ne_10m_admin_0_countries/ne_10m_admin_0_countries.shp' \n",
    "world = gpd.read_file(file_path)\n",
    "world.plot(figsize=(10, 6))"
   ]
  },
  {
   "cell_type": "code",
   "execution_count": null,
   "id": "c3875edb",
   "metadata": {},
   "outputs": [],
   "source": []
  }
 ],
 "metadata": {
  "kernelspec": {
   "display_name": "Python 3 (ipykernel)",
   "language": "python",
   "name": "python3"
  },
  "language_info": {
   "codemirror_mode": {
    "name": "ipython",
    "version": 3
   },
   "file_extension": ".py",
   "mimetype": "text/x-python",
   "name": "python",
   "nbconvert_exporter": "python",
   "pygments_lexer": "ipython3",
   "version": "3.7.13"
  }
 },
 "nbformat": 4,
 "nbformat_minor": 5
}
