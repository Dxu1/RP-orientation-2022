{
 "cells": [
  {
   "cell_type": "markdown",
   "id": "c3cf2d8d",
   "metadata": {},
   "source": [
    "# Extracting Data from Websites\n",
    "\n",
    "References:\n",
    "- HTML: https://www.w3schools.com/html/html_attributes.asp\n",
    "- urllib3: https://pypi.org/project/urllib3/\n",
    "- Beautiful Soup: https://beautiful-soup-4.readthedocs.io/en/latest/"
   ]
  },
  {
   "cell_type": "code",
   "execution_count": 32,
   "id": "26d2af7b",
   "metadata": {},
   "outputs": [],
   "source": [
    "import bs4\n",
    "import urllib3\n",
    "import certifi\n",
    "import numpy as np\n",
    "import pandas as pd"
   ]
  },
  {
   "cell_type": "markdown",
   "id": "a27a9503",
   "metadata": {},
   "source": [
    "## What is HTML?\n",
    "\n",
    "- HTML stands for Hyper Text Markup Language\n",
    "- HTML describes the **structure** of a Web page\n",
    "- HTML consists of a series of **elements**\n",
    "\n",
    "Below is a visualization of an HTML page structure:\n",
    "\n",
    "```\n",
    "<html>\n",
    "    <head>\n",
    "        <title>Page title</title>\n",
    "    </head>\n",
    "    <body>\n",
    "        <h1>This is a heading </h1>\n",
    "        <p>This is a paragraph.</p>\n",
    "        <p>This is another paragraph.</p>\n",
    "        <a href=\"https://bfi.uchicago.edu/\">This is a link</a>\n",
    "        <table>\n",
    "            <tr>\n",
    "                <th>Column 1</th>\n",
    "                <th>Column 2</th>\n",
    "            </tr>\n",
    "            <tr>\n",
    "                <td>Value 1</td>\n",
    "                <td>Value 2</td>\n",
    "            </tr>\n",
    "        </table> \n",
    "    </body>\n",
    "</html> \n",
    "```"
   ]
  },
  {
   "cell_type": "markdown",
   "id": "ecf66e16",
   "metadata": {},
   "source": [
    "## How to get the HTML file?\n",
    "\n",
    "We need an **HTTP client**, such as `urllib3`."
   ]
  },
  {
   "cell_type": "code",
   "execution_count": 33,
   "id": "b4b84206",
   "metadata": {
    "scrolled": false
   },
   "outputs": [],
   "source": [
    "pm = urllib3.PoolManager(cert_reqs='CERT_REQUIRED', ca_certs=certifi.where())\n",
    "myurl = \"https://www.aviationweather.gov/metar/data?ids=KORD&format=raw&date=0&hours=0\"\n",
    "html = pm.urlopen(url=myurl, method=\"GET\").data\n",
    "# html"
   ]
  },
  {
   "cell_type": "markdown",
   "id": "4940461c",
   "metadata": {},
   "source": [
    "## How to parse an HTML file?\n",
    "\n",
    "We need an **HTML Parser**, such as `BeautifulSoup`."
   ]
  },
  {
   "cell_type": "code",
   "execution_count": 34,
   "id": "509374c8",
   "metadata": {
    "scrolled": false
   },
   "outputs": [],
   "source": [
    "# First, make the soup\n",
    "\n",
    "soup = bs4.BeautifulSoup(html, features='lxml')\n",
    "# soup"
   ]
  },
  {
   "cell_type": "markdown",
   "id": "58942b16",
   "metadata": {},
   "source": [
    "Here are some simple ways to navigate that data structure:"
   ]
  },
  {
   "cell_type": "code",
   "execution_count": 35,
   "id": "59d5ee8b",
   "metadata": {
    "scrolled": true
   },
   "outputs": [
    {
     "name": "stdout",
     "output_type": "stream",
     "text": [
      "<title>AWC - METeorological Aerodrome Reports (METARs)</title>\n",
      "<class 'bs4.element.Tag'>\n",
      "AWC - METeorological Aerodrome Reports (METARs)\n",
      "<class 'str'>\n"
     ]
    }
   ],
   "source": [
    "print(soup.title)\n",
    "print(type(soup.title))\n",
    "print(soup.title.text)\n",
    "print(type(soup.title.text))"
   ]
  },
  {
   "cell_type": "code",
   "execution_count": 36,
   "id": "ee3822d3",
   "metadata": {},
   "outputs": [
    {
     "data": {
      "text/plain": [
       "<head>\n",
       "<!--[if lt IE 9]>\n",
       "<meta http-equiv=\"X-UA-Compatible\" content=\"IE=8\" />\n",
       "<![endif]-->\n",
       "<title>AWC - METeorological Aerodrome Reports (METARs)</title>\n",
       "<meta content=\"text/html; charset=utf-8\" http-equiv=\"content-type\"/>\n",
       "<meta content=\"900\" http-equiv=\"Refresh\"/>\n",
       "<meta content=\"en-us\" name=\"DC.language\" scheme=\"DCTERMS.RFC1766\"/>\n",
       "<meta content=\"Aviation Weather Center Homepage provides comprehensive user-friendly aviation weather Text products and graphics.\" name=\"description\"/>\n",
       "<meta content=\"aviation, weather, icing, turbulence, convection, pirep, metar, taf, airmet, sigmet, satellite, radar, surface, wind, temperature, aloft, airplane, NEXRAD, GOES, WSR-88D, precipitation, rain, snow, sleet, thunderstorm, en-route, prognosis, chart\" name=\"keywords\"/>\n",
       "<meta content=\"AWC - Aviation Weather Center\" name=\"DC.title\"/>\n",
       "<meta content=\"Aviation Weather Center Home Page ... METARs Page\" name=\"DC.description\"/>\n",
       "<meta content=\"NOAA's National Weather Service - Aviation Weather Center Homepage\" name=\"DC.creator\"/>\n",
       "<meta content=\"2013-03-15\" name=\"DC.date.created\" scheme=\"ISO8601\"/>\n",
       "<meta content=\"2013-03-15\" name=\"DC.date.reviewed\" scheme=\"ISO8601\"/>\n",
       "<link href=\"//code.jquery.com/ui/1.12.1/themes/smoothness/jquery-ui.css\" media=\"screen\" rel=\"stylesheet\" type=\"text/css\"/>\n",
       "<link href=\"/images/favicon.ico\" rel=\"shortcut icon\"/>\n",
       "<link href=\"/images/noaa_logo.png\" rel=\"apple-touch-icon\"/>\n",
       "<link href=\"/css/layout.css\" media=\"\" rel=\"stylesheet\" type=\"text/css\"/>\n",
       "<script src=\"//code.jquery.com/jquery-3.5.1.js\" type=\"text/javascript\"></script>\n",
       "<script src=\"//code.jquery.com/ui/1.12.1/jquery-ui.js\" type=\"text/javascript\"></script>\n",
       "<script src=\"/javascript/search_auto_comp.js\" type=\"text/javascript\"></script>\n",
       "<script src=\"/javascript/trax.js\" type=\"text/javascript\"></script>\n",
       "<script async=\"true\" id=\"_fed_an_ua_tag\" src=\"https://dap.digitalgov.gov/Universal-Federated-Analytics-Min.js?agency=DOC&amp;subagency=AWC&amp;pua=ua-33523145-2\" type=\"text/javascript\"></script>\n",
       "</head>"
      ]
     },
     "execution_count": 36,
     "metadata": {},
     "output_type": "execute_result"
    }
   ],
   "source": [
    "soup.title.parent"
   ]
  },
  {
   "cell_type": "code",
   "execution_count": 37,
   "id": "8e24f535",
   "metadata": {},
   "outputs": [
    {
     "name": "stdout",
     "output_type": "stream",
     "text": [
      "<head>\n",
      "<!--[if lt IE 9]>\n",
      "<meta http-equiv=\"X-UA-Compatible\" content=\"IE=8\" />\n",
      "<![endif]-->\n",
      "<title>AWC - METeorological Aerodrome Reports (METARs)</title>\n",
      "<meta content=\"text/html; charset=utf-8\" http-equiv=\"content-type\"/>\n",
      "<meta content=\"900\" http-equiv=\"Refresh\"/>\n",
      "<meta content=\"en-us\" name=\"DC.language\" scheme=\"DCTERMS.RFC1766\"/>\n",
      "<meta content=\"Aviation Weather Center Homepage provides comprehensive user-friendly aviation weather Text products and graphics.\" name=\"description\"/>\n",
      "<meta content=\"aviation, weather, icing, turbulence, convection, pirep, metar, taf, airmet, sigmet, satellite, radar, surface, wind, temperature, aloft, airplane, NEXRAD, GOES, WSR-88D, precipitation, rain, snow, sleet, thunderstorm, en-route, prognosis, chart\" name=\"keywords\"/>\n",
      "<meta content=\"AWC - Aviation Weather Center\" name=\"DC.title\"/>\n",
      "<meta content=\"Aviation Weather Center Home Page ... METARs Page\" name=\"DC.description\"/>\n",
      "<meta content=\"NOAA's National Weather Service - Aviation Weather Center Homepage\" name=\"DC.creator\"/>\n",
      "<meta content=\"2013-03-15\" name=\"DC.date.created\" scheme=\"ISO8601\"/>\n",
      "<meta content=\"2013-03-15\" name=\"DC.date.reviewed\" scheme=\"ISO8601\"/>\n",
      "<link href=\"//code.jquery.com/ui/1.12.1/themes/smoothness/jquery-ui.css\" media=\"screen\" rel=\"stylesheet\" type=\"text/css\"/>\n",
      "<link href=\"/images/favicon.ico\" rel=\"shortcut icon\"/>\n",
      "<link href=\"/images/noaa_logo.png\" rel=\"apple-touch-icon\"/>\n",
      "<link href=\"/css/layout.css\" media=\"\" rel=\"stylesheet\" type=\"text/css\"/>\n",
      "<script src=\"//code.jquery.com/jquery-3.5.1.js\" type=\"text/javascript\"></script>\n",
      "<script src=\"//code.jquery.com/ui/1.12.1/jquery-ui.js\" type=\"text/javascript\"></script>\n",
      "<script src=\"/javascript/search_auto_comp.js\" type=\"text/javascript\"></script>\n",
      "<script src=\"/javascript/trax.js\" type=\"text/javascript\"></script>\n",
      "<script async=\"true\" id=\"_fed_an_ua_tag\" src=\"https://dap.digitalgov.gov/Universal-Federated-Analytics-Min.js?agency=DOC&amp;subagency=AWC&amp;pua=ua-33523145-2\" type=\"text/javascript\"></script>\n",
      "</head>\n",
      "<class 'bs4.element.Tag'>\n"
     ]
    }
   ],
   "source": [
    "print(soup.title.parent)\n",
    "print(type(soup.title.parent))"
   ]
  },
  {
   "cell_type": "code",
   "execution_count": 38,
   "id": "b0c2012e",
   "metadata": {},
   "outputs": [
    {
     "data": {
      "text/plain": [
       "<p clear=\"both\">\n",
       "<strong>Data at: 1743 UTC 18 Aug 2022</strong></p>"
      ]
     },
     "execution_count": 38,
     "metadata": {},
     "output_type": "execute_result"
    }
   ],
   "source": [
    "soup.p"
   ]
  },
  {
   "cell_type": "code",
   "execution_count": 39,
   "id": "5d3211cb",
   "metadata": {},
   "outputs": [
    {
     "data": {
      "text/plain": [
       "[<p clear=\"both\">\n",
       " <strong>Data at: 1743 UTC 18 Aug 2022</strong></p>,\n",
       " <p style=\"text-align: center; font-size: 10px; color: #1150a0\">\n",
       "     Page loaded: \n",
       "   <a href=\"https://www.time.gov\">17:43 UTC</a>  |  \n",
       "   10:43 AM  Pacific  |  \n",
       "   11:43 AM  Mountain  |  \n",
       "   12:43 PM  Central  |  \n",
       "   01:43 PM  Eastern\n",
       "   </p>]"
      ]
     },
     "execution_count": 39,
     "metadata": {},
     "output_type": "execute_result"
    }
   ],
   "source": [
    "soup.find_all('p')"
   ]
  },
  {
   "cell_type": "code",
   "execution_count": 40,
   "id": "7f882a08",
   "metadata": {
    "scrolled": false
   },
   "outputs": [
    {
     "data": {
      "text/plain": [
       "[<a href=\"https://www.noaa.gov\" title=\"Visit the NOAA website\"><img alt=\"NOAA Logo\" border=\"0\" src=\"/images/layout/noaa_logo.png\"/></a>,\n",
       " <a href=\"https://www.weather.gov\" title=\"Visit the NWS website\"><img alt=\"NWS Logo\" border=\"0\" src=\"/images/layout/nws_logo.png\"/></a>,\n",
       " <a href=\"/\">AVIATION WEATHER CENTER</a>,\n",
       " <a href=\"https://www.noaa.gov\">N O A A</a>,\n",
       " <a href=\"https://www.weather.gov\">N A T I O N A L   W E A T H E R   S E R V I C E</a>,\n",
       " <a href=\"https://www.commerce.gov\">\n",
       " <div class=\"awc_headerright\" title=\"Visit Department of Commerce website\">\n",
       " </div> <!-- /awc_headerright -->\n",
       " </a>,\n",
       " <a href=\"/\">AWC Home</a>,\n",
       " <a href=\"https://www.ncep.noaa.gov/\">NCEP Home</a>,\n",
       " <a href=\"/\">Aviation (AWC)</a>,\n",
       " <a href=\"https://www.cpc.ncep.noaa.gov\">Climate (CPC)</a>,\n",
       " <a href=\"https://www.nhc.noaa.gov\">Hurricane (NHC)</a>,\n",
       " <a href=\"https://www.emc.ncep.noaa.gov\">Modeling (EMC)</a>,\n",
       " <a href=\"https://ocean.weather.gov\">Ocean (OPC)</a>,\n",
       " <a href=\"https://www.nco.ncep.noaa.gov\">Operations (NCO)</a>,\n",
       " <a href=\"https://www.swpc.noaa.gov\">Space (SWPC)</a>,\n",
       " <a href=\"https://www.spc.noaa.gov\">Storm (SPC)</a>,\n",
       " <a href=\"https://www.wpc.ncep.noaa.gov\">Weather (WPC)</a>,\n",
       " <a href=\"https://www.weather.gov/\">NWS Home</a>,\n",
       " <a href=\"https://www.noaa.gov/\">NOAA Home</a>,\n",
       " <a href=\"/sigmet\">SIGMET</a>,\n",
       " <a href=\"/gairmet\">G-AIRMET</a>,\n",
       " <a href=\"/cwamis\">Center Weather</a>,\n",
       " <a href=\"/convection\">Convection</a>,\n",
       " <a href=\"/turbulence\">Turbulence</a>,\n",
       " <a href=\"/icing\">Icing</a>,\n",
       " <a href=\"/windtemp\">Winds/Temps</a>,\n",
       " <a href=\"/progchart\">Prog Charts</a>,\n",
       " <a href=\"/taf\">TAFs</a>,\n",
       " <a href=\"/gfa/plot\">Aviation Forecasts</a>,\n",
       " <a href=\"/wafs\">WAFS Forecasts</a>,\n",
       " <a href=\"/areafcst\">Area Forecasts</a>,\n",
       " <a href=\"/fcstdisc\">Avn. Forecast Disc.</a>,\n",
       " <a href=\"/airep\">Aircraft Reps</a>,\n",
       " <a href=\"/metar\">METARs</a>,\n",
       " <a href=\"/radar\">Radar</a>,\n",
       " <a href=\"/satellite\">Satellite</a>,\n",
       " <a href=\"/flightpath\">Flight Path Tool</a>,\n",
       " <a href=\"/gfa\">GFA Tool</a>,\n",
       " <a href=\"/hemst\">HEMS Tool</a>,\n",
       " <a href=\"/dataserver\">Text Data Server</a>,\n",
       " <a href=\"/flightfolder\">Flight Folder</a>,\n",
       " <a href=\"/decisionsupport\">Decision Support</a>,\n",
       " <a href=\"/pirep/submit\">PIREP Submit</a>,\n",
       " <a href=\"/briefing\">Standard Briefing</a>,\n",
       " <a href=\"https://testbed.aviationweather.gov\">Aviation Testbed</a>,\n",
       " <a href=\"/info/links\">Aviation Links</a>,\n",
       " <a href=\"/news\">AWC News</a>,\n",
       " <a href=\"https://www.facebook.com/US.NOAA.AviationWeatherCenter\">Facebook</a>,\n",
       " <a href=\"https://www.twitter.com/NWSAWC\">Twitter</a>,\n",
       " <a href=\"https://www.weather.gov/news/\">NWS News</a>,\n",
       " <a href=\"/news/front\">The Front</a>,\n",
       " <a href=\"/info\">AWC</a>,\n",
       " <a href=\"/help\">Help</a>,\n",
       " <a href=\"/info/faq\">FAQ</a>,\n",
       " <a href=\"/contact\">Contact Us</a>,\n",
       " <a href=\"/user/login\">Login</a>,\n",
       " <a href=\"/user/settings\">Settings</a>,\n",
       " <a href=\"/user/register\">Register</a>,\n",
       " <a href=\"https://www.facebook.com/US.NOAA.AviationWeatherCenter\"><img alt=\"Facebook icon\" height=\"20\" src=\"/images/fb-art-25.png\" title=\"Follow us on Facebook\"/></a>,\n",
       " <a href=\"https://www.twitter.com/NWSAWC\"><img alt=\"Twitter icon\" height=\"20\" src=\"/images/twitter-art-25.png\" title=\"Follow us on Twitter\"/></a>,\n",
       " <a href=\"/metar?date=\" title=\"METAR Home\">METAR Home</a>,\n",
       " <a href=\"/metar/plot?date=\" title=\"METAR Plots\">Plot</a>,\n",
       " <a href=\"/metar/board?date=\" title=\"METAR Board\">Board</a>,\n",
       " <a href=\"/metar/help?page=text&amp;date=\" title=\"METAR Information\">Info</a>,\n",
       " <a href=\"https://www.time.gov\">17:43 UTC</a>,\n",
       " <a href=\"/sigmet\">SIGMET</a>,\n",
       " <a href=\"/gairmet\">G-AIRMET</a>,\n",
       " <a href=\"/cwamis\">Center Weather</a>,\n",
       " <a href=\"/convection\">Convection</a>,\n",
       " <a href=\"/turbulence\">Turbulence</a>,\n",
       " <a href=\"/icing\">Icing</a>,\n",
       " <a href=\"/windtemp\">Winds/Temps</a>,\n",
       " <a href=\"/progchart\">Prog Charts</a>,\n",
       " <a href=\"/taf\">TAFs</a>,\n",
       " <a href=\"/gfa/plot\">Aviation Forecasts</a>,\n",
       " <a href=\"/wafs\">WAFS Forecasts</a>,\n",
       " <a href=\"/areafcst\">Area Forecasts</a>,\n",
       " <a href=\"/fcstdisc\">Avn Forecast Disc (AFD)</a>,\n",
       " <a href=\"/airep\">Aircraft Reps</a>,\n",
       " <a href=\"/metar\">METARs</a>,\n",
       " <a href=\"/radar\">Radar</a>,\n",
       " <a href=\"/satellite\">Satellite</a>,\n",
       " <a href=\"/flightpath\">Flightpath Tool</a>,\n",
       " <a href=\"/hemst\">HEMS Tool</a>,\n",
       " <a href=\"/dataserver\">Text Data Server</a>,\n",
       " <a href=\"/flightfolder\">Flight Folder</a>,\n",
       " <a href=\"/decisionsupport\">Decision Support</a>,\n",
       " <a href=\"/pirep/submit\">PIREP Submit</a>,\n",
       " <a href=\"/briefing\">Standard Briefing</a>,\n",
       " <a href=\"http://testbed.aviationweather.gov\">Aviation Testbed</a>,\n",
       " <a href=\"/info/links\">Aviation Links</a>,\n",
       " <a href=\"/info\">AWC</a>,\n",
       " <a href=\"/help\">Help</a>,\n",
       " <a href=\"/info/faq/\">FAQ</a>,\n",
       " <a href=\"/contact\">Contact Us</a>,\n",
       " <a href=\"https://www.usa.gov\"><img alt=\"USA dot gov\" src=\"/images/layout/usa_gov.png\"/></a>,\n",
       " <a href=\"https://www.commerce.gov/\">US Dept of Commerce</a>,\n",
       " <a href=\"https://www.noaa.gov/\">National Oceanic and Atmospheric Administration</a>,\n",
       " <a href=\"https://www.weather.gov/\">National Weather Service</a>,\n",
       " <a href=\"https://www.ncep.noaa.gov/\"><span class=\"gray\">National Centers for Environmental Prediction</span></a>,\n",
       " <a href=\"/\">Aviation Weather Center</a>,\n",
       " <a href=\"https://www.weather.gov/disclaimer\">Disclaimer</a>,\n",
       " <a href=\"https://www.cio.noaa.gov/services_programs/info_quality.html\">Information Quality</a>,\n",
       " <a href=\"https://www.weather.gov/glossary\">Glossary</a>,\n",
       " <a href=\"/info\">About Us</a>,\n",
       " <a href=\"/contact\">Contact AWC</a>,\n",
       " <a href=\"https://www.weather.gov/privacy\">Privacy Policy</a>,\n",
       " <a href=\"https://www.noaa.gov/foia-freedom-of-information-act\">Freedom of Information Act (FOIA)</a>,\n",
       " <a href=\"https://www.weather.gov/careers\">Career Opportunities</a>]"
      ]
     },
     "execution_count": 40,
     "metadata": {},
     "output_type": "execute_result"
    }
   ],
   "source": [
    "soup.find_all('a')"
   ]
  },
  {
   "cell_type": "code",
   "execution_count": 41,
   "id": "5a00f470",
   "metadata": {},
   "outputs": [
    {
     "data": {
      "text/plain": [
       "[<p clear=\"both\">\n",
       " <strong>Data at: 1743 UTC 18 Aug 2022</strong></p>]"
      ]
     },
     "execution_count": 41,
     "metadata": {},
     "output_type": "execute_result"
    }
   ],
   "source": [
    "soup.find_all(\"p\", clear=\"both\")"
   ]
  },
  {
   "cell_type": "code",
   "execution_count": 42,
   "id": "6b1735ce",
   "metadata": {},
   "outputs": [
    {
     "name": "stdout",
     "output_type": "stream",
     "text": [
      "<p clear=\"both\">\n",
      "<strong>Data at: 1743 UTC 18 Aug 2022</strong></p>\n",
      "\n",
      "\n",
      " Data starts here \n",
      "\n",
      "\n",
      "<code>KORD 181651Z 27003KT 10SM FEW055 FEW250 27/12 A3003 RMK AO2 SLP164 T02670117</code>\n"
     ]
    }
   ],
   "source": [
    "tag_list = soup.find_all(\"p\", clear=\"both\")\n",
    "tag = tag_list[0]\n",
    "print(tag)\n",
    "print(tag.next_sibling)\n",
    "print(tag.next_sibling.next_sibling)\n",
    "print(tag.next_sibling.next_sibling.next_sibling)\n",
    "print(tag.next_sibling.next_sibling.next_sibling.next_sibling)"
   ]
  },
  {
   "cell_type": "code",
   "execution_count": 43,
   "id": "887db4c2",
   "metadata": {
    "scrolled": true
   },
   "outputs": [
    {
     "data": {
      "text/plain": [
       "[<code>KORD 181651Z 27003KT 10SM FEW055 FEW250 27/12 A3003 RMK AO2 SLP164 T02670117</code>]"
      ]
     },
     "execution_count": 43,
     "metadata": {},
     "output_type": "execute_result"
    }
   ],
   "source": [
    "soup.find_all(\"code\")"
   ]
  },
  {
   "cell_type": "code",
   "execution_count": 44,
   "id": "8a49babe",
   "metadata": {},
   "outputs": [
    {
     "data": {
      "text/plain": [
       "'KORD 181651Z 27003KT 10SM FEW055 FEW250 27/12 A3003 RMK AO2 SLP164 T02670117'"
      ]
     },
     "execution_count": 44,
     "metadata": {},
     "output_type": "execute_result"
    }
   ],
   "source": [
    "code_tags = soup.find_all(\"code\")\n",
    "weather_code = code_tags[0]\n",
    "weather_code.text"
   ]
  },
  {
   "cell_type": "markdown",
   "id": "a2fb1857",
   "metadata": {},
   "source": [
    "Now, let's put the codes we wrote into a function:"
   ]
  },
  {
   "cell_type": "code",
   "execution_count": 45,
   "id": "cb58cc92",
   "metadata": {},
   "outputs": [],
   "source": [
    "def get_current_weather(code, pm):\n",
    "    '''\n",
    "    Get current weather at a specific airport.\n",
    "    \n",
    "    Inputs: \n",
    "        code (str): airport code\n",
    "    \n",
    "    Outputs:\n",
    "        data (str): weather info from the website\n",
    "    '''\n",
    "    myurl = \"https://www.aviationweather.gov/metar/data?ids=\" + \\\n",
    "        code + \"&format=raw&date=0&hours=0\"\n",
    "    html = pm.urlopen(url=myurl, method=\"GET\").data\n",
    "    soup = bs4.BeautifulSoup(html, features='lxml')\n",
    "    code_tags = soup.find_all(\"code\")\n",
    "    weather_code = code_tags[0]\n",
    "    data = weather_code.text\n",
    "    return data"
   ]
  },
  {
   "cell_type": "code",
   "execution_count": 46,
   "id": "98f3a66a",
   "metadata": {},
   "outputs": [
    {
     "data": {
      "text/plain": [
       "{'KORD': 'KORD 181651Z 27003KT 10SM FEW055 FEW250 27/12 A3003 RMK AO2 SLP164 T02670117',\n",
       " 'KMDW': 'KMDW 181653Z 00000KT 10SM FEW050 FEW250 28/13 A3003 RMK AO2 SLP159 T02780128',\n",
       " 'KSFO': 'KSFO 181656Z 33008KT 10SM FEW006 17/12 A2997 RMK AO2 SLP147 T01720122',\n",
       " 'KLAX': 'KLAX 181653Z 25008KT 6SM BR BKN004 18/16 A2995 RMK AO2 SLP140 VIS SW-W 3/4 VIS NW 1 T01830161',\n",
       " 'KATL': 'KATL 181652Z 10005KT 10SM SCT022 BKN070 BKN250 26/19 A3000 RMK AO2 SLP151 MDT CU ALQDS T02560194'}"
      ]
     },
     "execution_count": 46,
     "metadata": {},
     "output_type": "execute_result"
    }
   ],
   "source": [
    "pm = urllib3.PoolManager(cert_reqs='CERT_REQUIRED',\n",
    "                         ca_certs=certifi.where())\n",
    "\n",
    "airports = [\"KORD\", \"KMDW\", \"KSFO\", \"KLAX\", \"KATL\"]\n",
    "data_dict = dict()\n",
    "for airport in airports:\n",
    "    data_dict[airport] = get_current_weather(airport, pm)\n",
    "data_dict"
   ]
  },
  {
   "cell_type": "markdown",
   "id": "a1faa80e",
   "metadata": {},
   "source": [
    "## Another example"
   ]
  },
  {
   "cell_type": "markdown",
   "id": "45f3883b",
   "metadata": {},
   "source": [
    "Step 1: Make the soup"
   ]
  },
  {
   "cell_type": "code",
   "execution_count": 47,
   "id": "c6bdeaa0",
   "metadata": {},
   "outputs": [],
   "source": [
    "myurl = \"https://en.wikipedia.org/wiki/chicago\"\n",
    "html = pm.urlopen(url=myurl, method=\"GET\").data\n",
    "soup = bs4.BeautifulSoup(html, features='lxml')"
   ]
  },
  {
   "cell_type": "markdown",
   "id": "6a22cb83",
   "metadata": {},
   "source": [
    "Step 2: Examine the webpage and locate the element"
   ]
  },
  {
   "cell_type": "code",
   "execution_count": 48,
   "id": "d904ab38",
   "metadata": {},
   "outputs": [
    {
     "data": {
      "text/plain": [
       "[<th colspan=\"14\">Climate data for Chicago (Midway Airport), 1991–2020 normals,<sup class=\"reference\" id=\"cite_ref-Strange_field_expl_147-0\"><a href=\"#cite_note-Strange_field_expl-147\">[a]</a></sup> extremes 1928–present\n",
       " </th>,\n",
       " <th colspan=\"14\">Climate data for Chicago (O'Hare Int'l Airport), 1991–2020 normals,<sup class=\"reference\" id=\"cite_ref-Strange_field_expl_147-1\"><a href=\"#cite_note-Strange_field_expl-147\">[a]</a></sup> extremes 1871–present<sup class=\"reference\" id=\"cite_ref-153\"><a href=\"#cite_note-153\">[b]</a></sup>\n",
       " </th>,\n",
       " <th colspan=\"14\">Sunshine data for Chicago\n",
       " </th>,\n",
       " <th colspan=\"14\" style=\"background:#f8f9fa;font-weight:normal;font-size:95%;\">Source: Weather Atlas<sup class=\"reference\" id=\"cite_ref-Weather_Atlas_156-0\"><a href=\"#cite_note-Weather_Atlas-156\">[154]</a></sup>\n",
       " </th>]"
      ]
     },
     "execution_count": 48,
     "metadata": {},
     "output_type": "execute_result"
    }
   ],
   "source": [
    "tag_list = soup.find_all(\"th\", colspan=\"14\")\n",
    "tag_list"
   ]
  },
  {
   "cell_type": "code",
   "execution_count": 49,
   "id": "eafbc5a1",
   "metadata": {},
   "outputs": [
    {
     "data": {
      "text/plain": [
       "'Climate data for Chicago (Midway Airport), 1991–2020 normals,[a] extremes 1928–present\\n'"
      ]
     },
     "execution_count": 49,
     "metadata": {},
     "output_type": "execute_result"
    }
   ],
   "source": [
    "tag_list[0].text"
   ]
  },
  {
   "cell_type": "code",
   "execution_count": 50,
   "id": "4dee37de",
   "metadata": {},
   "outputs": [
    {
     "data": {
      "text/plain": [
       "'Climate data for Chicago (Midway Airport), 1991–2020 normals,[a] extremes 1928–present\\n'"
      ]
     },
     "execution_count": 50,
     "metadata": {},
     "output_type": "execute_result"
    }
   ],
   "source": [
    "for tag in tag_list:\n",
    "    if tag.text[:7] == \"Climate\":\n",
    "        break\n",
    "tag.text"
   ]
  },
  {
   "cell_type": "code",
   "execution_count": 51,
   "id": "761a0794",
   "metadata": {
    "scrolled": false
   },
   "outputs": [],
   "source": [
    "table_tag = tag.parent.parent\n",
    "# table_tag"
   ]
  },
  {
   "cell_type": "code",
   "execution_count": 52,
   "id": "4b3c0bc0",
   "metadata": {},
   "outputs": [
    {
     "data": {
      "text/plain": [
       "[<th scope=\"row\">Month\n",
       " </th>,\n",
       " <th scope=\"row\" style=\"height: 16px;\">Record high °F (°C)\n",
       " </th>,\n",
       " <th scope=\"row\" style=\"height: 16px;\">Mean maximum °F (°C)\n",
       " </th>,\n",
       " <th scope=\"row\" style=\"height: 16px;\">Average high °F (°C)\n",
       " </th>,\n",
       " <th scope=\"row\" style=\"height: 16px;\">Daily mean °F (°C)\n",
       " </th>,\n",
       " <th scope=\"row\" style=\"height: 16px;\">Average low °F (°C)\n",
       " </th>,\n",
       " <th scope=\"row\" style=\"height: 16px;\">Mean minimum °F (°C)\n",
       " </th>,\n",
       " <th scope=\"row\" style=\"height: 16px;\">Record low °F (°C)\n",
       " </th>,\n",
       " <th scope=\"row\" style=\"height: 16px;\">Average <a href=\"/wiki/Precipitation\" title=\"Precipitation\">precipitation</a> inches (mm)\n",
       " </th>,\n",
       " <th scope=\"row\" style=\"height: 16px;\">Average snowfall inches (cm)\n",
       " </th>,\n",
       " <th scope=\"row\" style=\"height: 16px;\">Average precipitation days <span class=\"nowrap\" style=\"font-size:90%;\">(≥ 0.01 in)</span>\n",
       " </th>,\n",
       " <th scope=\"row\" style=\"height: 16px;\">Average snowy days <span class=\"nowrap\" style=\"font-size:90%;\">(≥ 0.1 in)</span>\n",
       " </th>,\n",
       " <th scope=\"row\" style=\"height: 16px;\">Average <a href=\"/wiki/Ultraviolet_index\" title=\"Ultraviolet index\">ultraviolet index</a>\n",
       " </th>]"
      ]
     },
     "execution_count": 52,
     "metadata": {},
     "output_type": "execute_result"
    }
   ],
   "source": [
    "table_tag.find_all(\"th\", scope=\"row\")"
   ]
  },
  {
   "cell_type": "code",
   "execution_count": 53,
   "id": "36acaa15",
   "metadata": {},
   "outputs": [
    {
     "data": {
      "text/plain": [
       "[<th scope=\"col\">Jan\n",
       " </th>,\n",
       " <th scope=\"col\">Feb\n",
       " </th>,\n",
       " <th scope=\"col\">Mar\n",
       " </th>,\n",
       " <th scope=\"col\">Apr\n",
       " </th>,\n",
       " <th scope=\"col\">May\n",
       " </th>,\n",
       " <th scope=\"col\">Jun\n",
       " </th>,\n",
       " <th scope=\"col\">Jul\n",
       " </th>,\n",
       " <th scope=\"col\">Aug\n",
       " </th>,\n",
       " <th scope=\"col\">Sep\n",
       " </th>,\n",
       " <th scope=\"col\">Oct\n",
       " </th>,\n",
       " <th scope=\"col\">Nov\n",
       " </th>,\n",
       " <th scope=\"col\">Dec\n",
       " </th>,\n",
       " <th scope=\"col\" style=\"border-left-width:medium\">Year\n",
       " </th>]"
      ]
     },
     "execution_count": 53,
     "metadata": {},
     "output_type": "execute_result"
    }
   ],
   "source": [
    "table_tag.find_all(\"th\", scope=\"col\")"
   ]
  },
  {
   "cell_type": "code",
   "execution_count": 54,
   "id": "122aa1cf",
   "metadata": {},
   "outputs": [
    {
     "data": {
      "text/plain": [
       "['Month\\n',\n",
       " 'Record high °F (°C)\\n',\n",
       " 'Mean maximum °F (°C)\\n',\n",
       " 'Average high °F (°C)\\n',\n",
       " 'Daily mean °F (°C)\\n',\n",
       " 'Average low °F (°C)\\n',\n",
       " 'Mean minimum °F (°C)\\n',\n",
       " 'Record low °F (°C)\\n',\n",
       " 'Average precipitation inches (mm)\\n',\n",
       " 'Average snowfall inches (cm)\\n',\n",
       " 'Average precipitation days (≥ 0.01 in)\\n',\n",
       " 'Average snowy days (≥ 0.1 in)\\n',\n",
       " 'Average ultraviolet index\\n']"
      ]
     },
     "execution_count": 54,
     "metadata": {},
     "output_type": "execute_result"
    }
   ],
   "source": [
    "row_names = [row.text for row in table_tag.find_all(\"th\", scope=\"row\")]\n",
    "row_names"
   ]
  },
  {
   "cell_type": "code",
   "execution_count": 55,
   "id": "51661fba",
   "metadata": {},
   "outputs": [
    {
     "data": {
      "text/plain": [
       "['Record high °F (°C)',\n",
       " 'Mean maximum °F (°C)',\n",
       " 'Average high °F (°C)',\n",
       " 'Daily mean °F (°C)',\n",
       " 'Average low °F (°C)',\n",
       " 'Mean minimum °F (°C)',\n",
       " 'Record low °F (°C)',\n",
       " 'Average precipitation inches (mm)',\n",
       " 'Average snowfall inches (cm)',\n",
       " 'Average precipitation days (≥ 0.01 in)',\n",
       " 'Average snowy days (≥ 0.1 in)',\n",
       " 'Average ultraviolet index']"
      ]
     },
     "execution_count": 55,
     "metadata": {},
     "output_type": "execute_result"
    }
   ],
   "source": [
    "row_names = [row.text[:-1] for row in table_tag.find_all(\"th\", scope=\"row\")][1:]\n",
    "row_names"
   ]
  },
  {
   "cell_type": "code",
   "execution_count": 56,
   "id": "53e7ce6b",
   "metadata": {},
   "outputs": [
    {
     "data": {
      "text/plain": [
       "['Jan',\n",
       " 'Feb',\n",
       " 'Mar',\n",
       " 'Apr',\n",
       " 'May',\n",
       " 'Jun',\n",
       " 'Jul',\n",
       " 'Aug',\n",
       " 'Sep',\n",
       " 'Oct',\n",
       " 'Nov',\n",
       " 'Dec',\n",
       " 'Year']"
      ]
     },
     "execution_count": 56,
     "metadata": {},
     "output_type": "execute_result"
    }
   ],
   "source": [
    "col_names = [col.text[:-1] for col in table_tag.find_all(\"th\", scope=\"col\")]\n",
    "col_names"
   ]
  },
  {
   "cell_type": "code",
   "execution_count": 58,
   "id": "2ef9d2cb",
   "metadata": {
    "scrolled": false
   },
   "outputs": [
    {
     "data": {
      "text/plain": [
       "[<td style=\"background: #FF9B37; color:#000000;\">67<br/>(19)\n",
       " </td>,\n",
       " <td style=\"background: #FF7800; color:#000000;\">75<br/>(24)\n",
       " </td>,\n",
       " <td style=\"background: #FF4F00; color:#000000;\">86<br/>(30)\n",
       " </td>,\n",
       " <td style=\"background: #FF3A00; color:#000000;\">92<br/>(33)\n",
       " </td>,\n",
       " <td style=\"background: #FF1100; color:#FFFFFF;\">102<br/>(39)\n",
       " </td>,\n",
       " <td style=\"background: #F80000; color:#FFFFFF;\">107<br/>(42)\n",
       " </td>,\n",
       " <td style=\"background: #EA0000; color:#FFFFFF;\">109<br/>(43)\n",
       " </td>,\n",
       " <td style=\"background: #FF0A00; color:#FFFFFF;\">104<br/>(40)\n",
       " </td>,\n",
       " <td style=\"background: #FF1100; color:#FFFFFF;\">102<br/>(39)\n",
       " </td>,\n",
       " <td style=\"background: #FF3300; color:#000000;\">94<br/>(34)\n",
       " </td>]"
      ]
     },
     "execution_count": 58,
     "metadata": {},
     "output_type": "execute_result"
    }
   ],
   "source": [
    "table_tag.find_all(\"td\")[:10]"
   ]
  },
  {
   "cell_type": "code",
   "execution_count": 60,
   "id": "2b954c02",
   "metadata": {},
   "outputs": [
    {
     "data": {
      "text/plain": [
       "[<td style=\"background: #FF9B37; color:#000000;\">67<br/>(19)\n",
       " </td>,\n",
       " <td style=\"background: #FF7800; color:#000000;\">75<br/>(24)\n",
       " </td>,\n",
       " <td style=\"background: #FF4F00; color:#000000;\">86<br/>(30)\n",
       " </td>,\n",
       " <td style=\"background: #FF3A00; color:#000000;\">92<br/>(33)\n",
       " </td>,\n",
       " <td style=\"background: #FF1100; color:#FFFFFF;\">102<br/>(39)\n",
       " </td>,\n",
       " <td style=\"background: #F80000; color:#FFFFFF;\">107<br/>(42)\n",
       " </td>,\n",
       " <td style=\"background: #EA0000; color:#FFFFFF;\">109<br/>(43)\n",
       " </td>,\n",
       " <td style=\"background: #FF0A00; color:#FFFFFF;\">104<br/>(40)\n",
       " </td>,\n",
       " <td style=\"background: #FF1100; color:#FFFFFF;\">102<br/>(39)\n",
       " </td>,\n",
       " <td style=\"background: #FF3300; color:#000000;\">94<br/>(34)\n",
       " </td>]"
      ]
     },
     "execution_count": 60,
     "metadata": {},
     "output_type": "execute_result"
    }
   ],
   "source": [
    "value_tags = table_tag.find_all(\"td\")[:len(row_names)*len(col_names)]\n",
    "value_tags[:10]"
   ]
  },
  {
   "cell_type": "code",
   "execution_count": 61,
   "id": "97e45db2",
   "metadata": {},
   "outputs": [
    {
     "data": {
      "text/html": [
       "<div>\n",
       "<style scoped>\n",
       "    .dataframe tbody tr th:only-of-type {\n",
       "        vertical-align: middle;\n",
       "    }\n",
       "\n",
       "    .dataframe tbody tr th {\n",
       "        vertical-align: top;\n",
       "    }\n",
       "\n",
       "    .dataframe thead th {\n",
       "        text-align: right;\n",
       "    }\n",
       "</style>\n",
       "<table border=\"1\" class=\"dataframe\">\n",
       "  <thead>\n",
       "    <tr style=\"text-align: right;\">\n",
       "      <th></th>\n",
       "      <th>Jan</th>\n",
       "      <th>Feb</th>\n",
       "      <th>Mar</th>\n",
       "      <th>Apr</th>\n",
       "      <th>May</th>\n",
       "      <th>Jun</th>\n",
       "      <th>Jul</th>\n",
       "      <th>Aug</th>\n",
       "      <th>Sep</th>\n",
       "      <th>Oct</th>\n",
       "      <th>Nov</th>\n",
       "      <th>Dec</th>\n",
       "      <th>Year</th>\n",
       "    </tr>\n",
       "  </thead>\n",
       "  <tbody>\n",
       "    <tr>\n",
       "      <th>Record high °F (°C)</th>\n",
       "      <td>67(19)</td>\n",
       "      <td>75(24)</td>\n",
       "      <td>86(30)</td>\n",
       "      <td>92(33)</td>\n",
       "      <td>102(39)</td>\n",
       "      <td>107(42)</td>\n",
       "      <td>109(43)</td>\n",
       "      <td>104(40)</td>\n",
       "      <td>102(39)</td>\n",
       "      <td>94(34)</td>\n",
       "      <td>81(27)</td>\n",
       "      <td>72(22)</td>\n",
       "      <td>109(43)</td>\n",
       "    </tr>\n",
       "    <tr>\n",
       "      <th>Mean maximum °F (°C)</th>\n",
       "      <td>53.4(11.9)</td>\n",
       "      <td>57.9(14.4)</td>\n",
       "      <td>72.0(22.2)</td>\n",
       "      <td>81.5(27.5)</td>\n",
       "      <td>89.2(31.8)</td>\n",
       "      <td>93.9(34.4)</td>\n",
       "      <td>96.0(35.6)</td>\n",
       "      <td>94.2(34.6)</td>\n",
       "      <td>90.8(32.7)</td>\n",
       "      <td>82.8(28.2)</td>\n",
       "      <td>68.0(20.0)</td>\n",
       "      <td>57.5(14.2)</td>\n",
       "      <td>97.1(36.2)</td>\n",
       "    </tr>\n",
       "    <tr>\n",
       "      <th>Average high °F (°C)</th>\n",
       "      <td>32.8(0.4)</td>\n",
       "      <td>36.8(2.7)</td>\n",
       "      <td>47.9(8.8)</td>\n",
       "      <td>60.0(15.6)</td>\n",
       "      <td>71.5(21.9)</td>\n",
       "      <td>81.2(27.3)</td>\n",
       "      <td>85.2(29.6)</td>\n",
       "      <td>83.1(28.4)</td>\n",
       "      <td>76.5(24.7)</td>\n",
       "      <td>63.7(17.6)</td>\n",
       "      <td>49.6(9.8)</td>\n",
       "      <td>37.7(3.2)</td>\n",
       "      <td>60.5(15.8)</td>\n",
       "    </tr>\n",
       "    <tr>\n",
       "      <th>Daily mean °F (°C)</th>\n",
       "      <td>26.2(−3.2)</td>\n",
       "      <td>29.9(−1.2)</td>\n",
       "      <td>39.9(4.4)</td>\n",
       "      <td>50.9(10.5)</td>\n",
       "      <td>61.9(16.6)</td>\n",
       "      <td>71.9(22.2)</td>\n",
       "      <td>76.7(24.8)</td>\n",
       "      <td>75.0(23.9)</td>\n",
       "      <td>67.8(19.9)</td>\n",
       "      <td>55.3(12.9)</td>\n",
       "      <td>42.4(5.8)</td>\n",
       "      <td>31.5(−0.3)</td>\n",
       "      <td>52.4(11.3)</td>\n",
       "    </tr>\n",
       "    <tr>\n",
       "      <th>Average low °F (°C)</th>\n",
       "      <td>19.5(−6.9)</td>\n",
       "      <td>22.9(−5.1)</td>\n",
       "      <td>32.0(0.0)</td>\n",
       "      <td>41.7(5.4)</td>\n",
       "      <td>52.4(11.3)</td>\n",
       "      <td>62.7(17.1)</td>\n",
       "      <td>68.1(20.1)</td>\n",
       "      <td>66.9(19.4)</td>\n",
       "      <td>59.2(15.1)</td>\n",
       "      <td>46.8(8.2)</td>\n",
       "      <td>35.2(1.8)</td>\n",
       "      <td>25.3(−3.7)</td>\n",
       "      <td>44.4(6.9)</td>\n",
       "    </tr>\n",
       "    <tr>\n",
       "      <th>Mean minimum °F (°C)</th>\n",
       "      <td>−3(−19)</td>\n",
       "      <td>3.4(−15.9)</td>\n",
       "      <td>14.1(−9.9)</td>\n",
       "      <td>28.2(−2.1)</td>\n",
       "      <td>39.1(3.9)</td>\n",
       "      <td>49.3(9.6)</td>\n",
       "      <td>58.6(14.8)</td>\n",
       "      <td>57.6(14.2)</td>\n",
       "      <td>45.0(7.2)</td>\n",
       "      <td>31.8(−0.1)</td>\n",
       "      <td>19.7(−6.8)</td>\n",
       "      <td>5.3(−14.8)</td>\n",
       "      <td>−6.5(−21.4)</td>\n",
       "    </tr>\n",
       "    <tr>\n",
       "      <th>Record low °F (°C)</th>\n",
       "      <td>−25(−32)</td>\n",
       "      <td>−20(−29)</td>\n",
       "      <td>−7(−22)</td>\n",
       "      <td>10(−12)</td>\n",
       "      <td>28(−2)</td>\n",
       "      <td>35(2)</td>\n",
       "      <td>46(8)</td>\n",
       "      <td>43(6)</td>\n",
       "      <td>29(−2)</td>\n",
       "      <td>20(−7)</td>\n",
       "      <td>−3(−19)</td>\n",
       "      <td>−20(−29)</td>\n",
       "      <td>−25(−32)</td>\n",
       "    </tr>\n",
       "    <tr>\n",
       "      <th>Average precipitation inches (mm)</th>\n",
       "      <td>2.30(58)</td>\n",
       "      <td>2.12(54)</td>\n",
       "      <td>2.66(68)</td>\n",
       "      <td>4.15(105)</td>\n",
       "      <td>4.75(121)</td>\n",
       "      <td>4.53(115)</td>\n",
       "      <td>4.02(102)</td>\n",
       "      <td>4.10(104)</td>\n",
       "      <td>3.33(85)</td>\n",
       "      <td>3.86(98)</td>\n",
       "      <td>2.73(69)</td>\n",
       "      <td>2.33(59)</td>\n",
       "      <td>40.88(1,038)</td>\n",
       "    </tr>\n",
       "    <tr>\n",
       "      <th>Average snowfall inches (cm)</th>\n",
       "      <td>12.5(32)</td>\n",
       "      <td>10.1(26)</td>\n",
       "      <td>5.7(14)</td>\n",
       "      <td>1.0(2.5)</td>\n",
       "      <td>0.0(0.0)</td>\n",
       "      <td>0.0(0.0)</td>\n",
       "      <td>0.0(0.0)</td>\n",
       "      <td>0.0(0.0)</td>\n",
       "      <td>0.0(0.0)</td>\n",
       "      <td>0.1(0.25)</td>\n",
       "      <td>1.5(3.8)</td>\n",
       "      <td>7.9(20)</td>\n",
       "      <td>38.8(99)</td>\n",
       "    </tr>\n",
       "    <tr>\n",
       "      <th>Average precipitation days (≥ 0.01 in)</th>\n",
       "      <td>11.5</td>\n",
       "      <td>9.4</td>\n",
       "      <td>11.1</td>\n",
       "      <td>12.0</td>\n",
       "      <td>12.4</td>\n",
       "      <td>11.1</td>\n",
       "      <td>10.0</td>\n",
       "      <td>9.3</td>\n",
       "      <td>8.4</td>\n",
       "      <td>10.8</td>\n",
       "      <td>10.2</td>\n",
       "      <td>10.8</td>\n",
       "      <td>127.0</td>\n",
       "    </tr>\n",
       "    <tr>\n",
       "      <th>Average snowy days (≥ 0.1 in)</th>\n",
       "      <td>8.9</td>\n",
       "      <td>6.4</td>\n",
       "      <td>3.9</td>\n",
       "      <td>0.9</td>\n",
       "      <td>0.0</td>\n",
       "      <td>0.0</td>\n",
       "      <td>0.0</td>\n",
       "      <td>0.0</td>\n",
       "      <td>0.0</td>\n",
       "      <td>0.2</td>\n",
       "      <td>1.6</td>\n",
       "      <td>6.3</td>\n",
       "      <td>28.2</td>\n",
       "    </tr>\n",
       "    <tr>\n",
       "      <th>Average ultraviolet index</th>\n",
       "      <td>1</td>\n",
       "      <td>2</td>\n",
       "      <td>4</td>\n",
       "      <td>6</td>\n",
       "      <td>7</td>\n",
       "      <td>9</td>\n",
       "      <td>9</td>\n",
       "      <td>8</td>\n",
       "      <td>6</td>\n",
       "      <td>4</td>\n",
       "      <td>2</td>\n",
       "      <td>1</td>\n",
       "      <td>5</td>\n",
       "    </tr>\n",
       "  </tbody>\n",
       "</table>\n",
       "</div>"
      ],
      "text/plain": [
       "                                               Jan         Feb         Mar  \\\n",
       "Record high °F (°C)                         67(19)      75(24)      86(30)   \n",
       "Mean maximum °F (°C)                    53.4(11.9)  57.9(14.4)  72.0(22.2)   \n",
       "Average high °F (°C)                     32.8(0.4)   36.8(2.7)   47.9(8.8)   \n",
       "Daily mean °F (°C)                      26.2(−3.2)  29.9(−1.2)   39.9(4.4)   \n",
       "Average low °F (°C)                     19.5(−6.9)  22.9(−5.1)   32.0(0.0)   \n",
       "Mean minimum °F (°C)                       −3(−19)  3.4(−15.9)  14.1(−9.9)   \n",
       "Record low °F (°C)                        −25(−32)    −20(−29)     −7(−22)   \n",
       "Average precipitation inches (mm)         2.30(58)    2.12(54)    2.66(68)   \n",
       "Average snowfall inches (cm)              12.5(32)    10.1(26)     5.7(14)   \n",
       "Average precipitation days (≥ 0.01 in)        11.5         9.4        11.1   \n",
       "Average snowy days (≥ 0.1 in)                  8.9         6.4         3.9   \n",
       "Average ultraviolet index                        1           2           4   \n",
       "\n",
       "                                               Apr         May         Jun  \\\n",
       "Record high °F (°C)                         92(33)     102(39)     107(42)   \n",
       "Mean maximum °F (°C)                    81.5(27.5)  89.2(31.8)  93.9(34.4)   \n",
       "Average high °F (°C)                    60.0(15.6)  71.5(21.9)  81.2(27.3)   \n",
       "Daily mean °F (°C)                      50.9(10.5)  61.9(16.6)  71.9(22.2)   \n",
       "Average low °F (°C)                      41.7(5.4)  52.4(11.3)  62.7(17.1)   \n",
       "Mean minimum °F (°C)                    28.2(−2.1)   39.1(3.9)   49.3(9.6)   \n",
       "Record low °F (°C)                         10(−12)      28(−2)       35(2)   \n",
       "Average precipitation inches (mm)        4.15(105)   4.75(121)   4.53(115)   \n",
       "Average snowfall inches (cm)              1.0(2.5)    0.0(0.0)    0.0(0.0)   \n",
       "Average precipitation days (≥ 0.01 in)        12.0        12.4        11.1   \n",
       "Average snowy days (≥ 0.1 in)                  0.9         0.0         0.0   \n",
       "Average ultraviolet index                        6           7           9   \n",
       "\n",
       "                                               Jul         Aug         Sep  \\\n",
       "Record high °F (°C)                        109(43)     104(40)     102(39)   \n",
       "Mean maximum °F (°C)                    96.0(35.6)  94.2(34.6)  90.8(32.7)   \n",
       "Average high °F (°C)                    85.2(29.6)  83.1(28.4)  76.5(24.7)   \n",
       "Daily mean °F (°C)                      76.7(24.8)  75.0(23.9)  67.8(19.9)   \n",
       "Average low °F (°C)                     68.1(20.1)  66.9(19.4)  59.2(15.1)   \n",
       "Mean minimum °F (°C)                    58.6(14.8)  57.6(14.2)   45.0(7.2)   \n",
       "Record low °F (°C)                           46(8)       43(6)      29(−2)   \n",
       "Average precipitation inches (mm)        4.02(102)   4.10(104)    3.33(85)   \n",
       "Average snowfall inches (cm)              0.0(0.0)    0.0(0.0)    0.0(0.0)   \n",
       "Average precipitation days (≥ 0.01 in)        10.0         9.3         8.4   \n",
       "Average snowy days (≥ 0.1 in)                  0.0         0.0         0.0   \n",
       "Average ultraviolet index                        9           8           6   \n",
       "\n",
       "                                               Oct         Nov         Dec  \\\n",
       "Record high °F (°C)                         94(34)      81(27)      72(22)   \n",
       "Mean maximum °F (°C)                    82.8(28.2)  68.0(20.0)  57.5(14.2)   \n",
       "Average high °F (°C)                    63.7(17.6)   49.6(9.8)   37.7(3.2)   \n",
       "Daily mean °F (°C)                      55.3(12.9)   42.4(5.8)  31.5(−0.3)   \n",
       "Average low °F (°C)                      46.8(8.2)   35.2(1.8)  25.3(−3.7)   \n",
       "Mean minimum °F (°C)                    31.8(−0.1)  19.7(−6.8)  5.3(−14.8)   \n",
       "Record low °F (°C)                          20(−7)     −3(−19)    −20(−29)   \n",
       "Average precipitation inches (mm)         3.86(98)    2.73(69)    2.33(59)   \n",
       "Average snowfall inches (cm)             0.1(0.25)    1.5(3.8)     7.9(20)   \n",
       "Average precipitation days (≥ 0.01 in)        10.8        10.2        10.8   \n",
       "Average snowy days (≥ 0.1 in)                  0.2         1.6         6.3   \n",
       "Average ultraviolet index                        4           2           1   \n",
       "\n",
       "                                                Year  \n",
       "Record high °F (°C)                          109(43)  \n",
       "Mean maximum °F (°C)                      97.1(36.2)  \n",
       "Average high °F (°C)                      60.5(15.8)  \n",
       "Daily mean °F (°C)                        52.4(11.3)  \n",
       "Average low °F (°C)                        44.4(6.9)  \n",
       "Mean minimum °F (°C)                     −6.5(−21.4)  \n",
       "Record low °F (°C)                          −25(−32)  \n",
       "Average precipitation inches (mm)       40.88(1,038)  \n",
       "Average snowfall inches (cm)                38.8(99)  \n",
       "Average precipitation days (≥ 0.01 in)         127.0  \n",
       "Average snowy days (≥ 0.1 in)                   28.2  \n",
       "Average ultraviolet index                          5  "
      ]
     },
     "execution_count": 61,
     "metadata": {},
     "output_type": "execute_result"
    }
   ],
   "source": [
    "data = [value.text[:-1] for value in value_tags]\n",
    "data = np.array(data).reshape(len(row_names), len(col_names))\n",
    "df = pd.DataFrame(data, columns=col_names, index=row_names)\n",
    "df"
   ]
  },
  {
   "cell_type": "code",
   "execution_count": 62,
   "id": "023d5863",
   "metadata": {},
   "outputs": [],
   "source": [
    "def get_climate(city):\n",
    "\n",
    "\n",
    "    html = pm.urlopen(url=myurl, method=\"GET\").data\n",
    "    soup = bs4.BeautifulSoup(html, features='lxml')\n",
    "    tag_list = soup.find_all(\"th\", colspan=\"14\")\n",
    "    try:\n",
    "        tag = tag_list[0].parent.parent\n",
    "        rows = [row.text[:-1] for row in tag.find_all(\"th\", scope=\"row\")][1:]\n",
    "        cols = [col.text[:-1] for col in tag.find_all(\"th\", scope=\"col\")]\n",
    "        data = [num.text[:-1]\n",
    "                for num in tag.find_all(\"td\")[:len(rows)*len(cols)]]\n",
    "        data = np.array(data).reshape(len(rows), len(cols))\n",
    "        df = pd.DataFrame(data, columns=cols, index=rows)\n",
    "    except IndexError:\n",
    "        return None\n",
    "\n",
    "    return df"
   ]
  },
  {
   "cell_type": "code",
   "execution_count": 63,
   "id": "0edf20b6",
   "metadata": {},
   "outputs": [
    {
     "data": {
      "text/plain": [
       "Record high °F (°C)                           67(19)\n",
       "Mean maximum °F (°C)                      53.4(11.9)\n",
       "Average high °F (°C)                       32.8(0.4)\n",
       "Daily mean °F (°C)                        26.2(−3.2)\n",
       "Average low °F (°C)                       19.5(−6.9)\n",
       "Mean minimum °F (°C)                         −3(−19)\n",
       "Record low °F (°C)                          −25(−32)\n",
       "Average precipitation inches (mm)           2.30(58)\n",
       "Average snowfall inches (cm)                12.5(32)\n",
       "Average precipitation days (≥ 0.01 in)          11.5\n",
       "Average snowy days (≥ 0.1 in)                    8.9\n",
       "Average ultraviolet index                          1\n",
       "Name: Jan, dtype: object"
      ]
     },
     "execution_count": 63,
     "metadata": {},
     "output_type": "execute_result"
    }
   ],
   "source": [
    "df = get_climate(\"san francisco\")\n",
    "df[\"Jan\"]"
   ]
  },
  {
   "cell_type": "markdown",
   "id": "f4adf049",
   "metadata": {},
   "source": [
    "## Reference\n",
    "\n",
    "- CMSC 12200"
   ]
  }
 ],
 "metadata": {
  "kernelspec": {
   "display_name": "Python 3",
   "language": "python",
   "name": "python3"
  },
  "language_info": {
   "codemirror_mode": {
    "name": "ipython",
    "version": 3
   },
   "file_extension": ".py",
   "mimetype": "text/x-python",
   "name": "python",
   "nbconvert_exporter": "python",
   "pygments_lexer": "ipython3",
   "version": "3.8.8"
  }
 },
 "nbformat": 4,
 "nbformat_minor": 5
}
