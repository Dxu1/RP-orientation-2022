{
 "cells": [
  {
   "cell_type": "markdown",
   "id": "4e779de8",
   "metadata": {},
   "source": [
    "# NumPy, Object-oriented Programming, and Parallel Computing\n"
   ]
  },
  {
   "cell_type": "code",
   "execution_count": 1,
   "id": "60aa1d08",
   "metadata": {},
   "outputs": [],
   "source": [
    "import numpy as np\n",
    "import matplotlib.pyplot as plt\n",
    "import seaborn\n",
    "import multiprocess"
   ]
  },
  {
   "cell_type": "markdown",
   "id": "2196a43f",
   "metadata": {},
   "source": [
    "## NumPy\n",
    "\n",
    "`NumPy` is a library that supplies two major features. \n",
    " - better support for large multi-dimensional arrays. \n",
    " - high-level mathematical functions that operate on them.\n",
    " \n",
    "In summary, `NumPy` (+`Matplotlib`) allows you to use Matlab in Python.\n",
    "\n",
    "We will illustrate `NumPy` using an example in Stock et al. (2002) that shows how IV estimates might be biased toward the OLS estimates when the instrument is weak. Consider the following data generating process\n",
    "$$\\begin{aligned}\n",
    "    D_i &= \\gamma Z_i + V_i,  \\\\\n",
    "    Y_i &= \\beta D_i + U_i, \\\\\n",
    "    (U_i, V_i) &\\sim Normal(0, \\Omega), \\\\\n",
    "    \\Omega &= \\begin{pmatrix}\n",
    "        1 & \\rho \\\\\n",
    "        \\rho & 1\n",
    "    \\end{pmatrix} \\\\\n",
    "    Z_i &\\sim Normal(0, \\sigma^2)\n",
    "\\end{aligned}$$\n",
    "where $\\beta = 0$, $\\sigma = 1$, and $\\rho = 0.99$.\n",
    "\n",
    "Note that this is a classical IV regression, where we are interested in estimating $\\beta$ and we instrument $D$ with $Z$. The purpose of this simulation is to show how the distribution of $\\hat{\\beta}$ changes as we alter the magnitude of $\\gamma$, (i.e. the strength of the first stage). \n",
    "\n",
    "We will draw $N = 1,000$ observations from the data generating process and run simulations."
   ]
  },
  {
   "cell_type": "code",
   "execution_count": 2,
   "id": "0ef7e26a",
   "metadata": {},
   "outputs": [],
   "source": [
    "N = 1000\n",
    "\n",
    "beta = 0\n",
    "sigma = 1\n",
    "rho = 0.99"
   ]
  },
  {
   "cell_type": "markdown",
   "id": "8c964778",
   "metadata": {},
   "source": [
    "### Create a NumPy Array\n",
    "\n",
    "Our first step is to construct all the relevant matrices. This part is very similar to Robin's lecture on Intro to Matlab. There are three common ways to create a numpy array.\n",
    "\n",
    "1. Create an array from a list: `A = np.array(list)`\n",
    "2. Create an array of 0s / 1s: `B = np.zeros((nrow, ncol))` or `C = np.ones((nrow, ncol))` \n",
    "3. Create a random array: `C = np.random.rand(nrow, ncol)` or other functions from `np.random`"
   ]
  },
  {
   "cell_type": "code",
   "execution_count": 3,
   "id": "4d3efb5d",
   "metadata": {},
   "outputs": [
    {
     "name": "stdout",
     "output_type": "stream",
     "text": [
      "[[1 2]\n",
      " [3 4]\n",
      " [5 6]]\n"
     ]
    }
   ],
   "source": [
    "A = np.array([[1,2],[3,4],[5,6]])\n",
    "print(A)"
   ]
  },
  {
   "cell_type": "code",
   "execution_count": 4,
   "id": "230ef831",
   "metadata": {},
   "outputs": [
    {
     "name": "stdout",
     "output_type": "stream",
     "text": [
      "[[0. 0. 0.]\n",
      " [0. 0. 0.]]\n",
      "[[1. 1. 1.]\n",
      " [1. 1. 1.]]\n"
     ]
    }
   ],
   "source": [
    "B1 = np.zeros((2, 3))\n",
    "B2 = np.ones((2, 3))\n",
    "print(B1)\n",
    "print(B2)"
   ]
  },
  {
   "cell_type": "code",
   "execution_count": 5,
   "id": "6f54b959",
   "metadata": {},
   "outputs": [
    {
     "data": {
      "text/plain": [
       "array([[0.37454012],\n",
       "       [0.95071431],\n",
       "       [0.73199394],\n",
       "       [0.59865848]])"
      ]
     },
     "execution_count": 5,
     "metadata": {},
     "output_type": "execute_result"
    }
   ],
   "source": [
    "np.random.seed(42)\n",
    "C = np.random.rand(4, 1)\n",
    "C"
   ]
  },
  {
   "cell_type": "markdown",
   "id": "ac70b671",
   "metadata": {},
   "source": [
    "Access element in the array"
   ]
  },
  {
   "cell_type": "code",
   "execution_count": 6,
   "id": "e40b0656",
   "metadata": {},
   "outputs": [
    {
     "name": "stdout",
     "output_type": "stream",
     "text": [
      "[1 2]\n",
      "[2 4 6]\n",
      "2\n"
     ]
    }
   ],
   "source": [
    "print(A[0,:]) #i-th row\n",
    "print(A[:,1]) #j-th column\n",
    "print(A[0,1]) # (i,j) coordinate"
   ]
  },
  {
   "cell_type": "markdown",
   "id": "086f0274",
   "metadata": {},
   "source": [
    "Get the dimension and number of elements of an array"
   ]
  },
  {
   "cell_type": "code",
   "execution_count": 7,
   "id": "c477f70d",
   "metadata": {},
   "outputs": [
    {
     "name": "stdout",
     "output_type": "stream",
     "text": [
      "(3, 2)\n",
      "6\n"
     ]
    }
   ],
   "source": [
    "print(A.shape)\n",
    "print(A.size)"
   ]
  },
  {
   "cell_type": "markdown",
   "id": "7f012a39",
   "metadata": {},
   "source": [
    "Now, let's construct the arrays in our example. Recall that \n",
    "$$\\begin{aligned}\n",
    "    D_i &= \\gamma Z_i + V_i,  \\\\\n",
    "    Y_i &= \\beta D_i + U_i, \\\\\n",
    "    (U_i, V_i) &\\sim Normal(0, \\Omega), \\\\\n",
    "    \\Omega &= \\begin{pmatrix}\n",
    "        1 & \\rho \\\\\n",
    "        \\rho & 1\n",
    "    \\end{pmatrix} \\\\\n",
    "    Z_i &\\sim Normal(0, \\sigma^2)\n",
    "\\end{aligned}$$\n"
   ]
  },
  {
   "cell_type": "code",
   "execution_count": 8,
   "id": "63bc13bf",
   "metadata": {},
   "outputs": [
    {
     "data": {
      "text/plain": [
       "array([[1.  , 0.99],\n",
       "       [0.99, 1.  ]])"
      ]
     },
     "execution_count": 8,
     "metadata": {},
     "output_type": "execute_result"
    }
   ],
   "source": [
    "Sigma = np.array([[1, rho], [rho, 1]])\n",
    "Sigma"
   ]
  },
  {
   "cell_type": "code",
   "execution_count": 9,
   "id": "e2449c06",
   "metadata": {},
   "outputs": [
    {
     "data": {
      "text/plain": [
       "(1000,)"
      ]
     },
     "execution_count": 9,
     "metadata": {},
     "output_type": "execute_result"
    }
   ],
   "source": [
    "Z = np.random.normal(0, sigma, N)\n",
    "Z.shape"
   ]
  },
  {
   "cell_type": "code",
   "execution_count": 10,
   "id": "3151e7d9",
   "metadata": {},
   "outputs": [
    {
     "name": "stdout",
     "output_type": "stream",
     "text": [
      "(1000, 2)\n"
     ]
    }
   ],
   "source": [
    "UV = np.random.multivariate_normal([0, 0], Sigma, N)\n",
    "print(UV.shape)\n",
    "U = UV[:,0]\n",
    "V = UV[:,1]"
   ]
  },
  {
   "cell_type": "markdown",
   "id": "c31238e8",
   "metadata": {},
   "source": [
    "### NumPy Array Operation"
   ]
  },
  {
   "cell_type": "markdown",
   "id": "8a49eb02",
   "metadata": {},
   "source": [
    "Scaler multiplication (`*`) and addition (`+`):"
   ]
  },
  {
   "cell_type": "code",
   "execution_count": 11,
   "id": "7edbf4b1",
   "metadata": {},
   "outputs": [
    {
     "name": "stdout",
     "output_type": "stream",
     "text": [
      "[[2 4]\n",
      " [6 8]]\n",
      "[[2 2]\n",
      " [3 5]]\n"
     ]
    }
   ],
   "source": [
    "A = np.array([[1,2],[3,4]])\n",
    "B = np.array([[1,0],[0,1]])\n",
    "print(2 * A)\n",
    "print(A + B)"
   ]
  },
  {
   "cell_type": "markdown",
   "id": "f4b4ebcf",
   "metadata": {},
   "source": [
    "Element-wise multiplication (`*`) and Matrix multiplication `@`"
   ]
  },
  {
   "cell_type": "code",
   "execution_count": 12,
   "id": "d682345c",
   "metadata": {},
   "outputs": [
    {
     "name": "stdout",
     "output_type": "stream",
     "text": [
      "[[1 0]\n",
      " [0 4]]\n",
      "[[1 2]\n",
      " [3 4]]\n"
     ]
    }
   ],
   "source": [
    "print(A * B)\n",
    "print(A @ B)"
   ]
  },
  {
   "cell_type": "markdown",
   "id": "491128d1",
   "metadata": {},
   "source": [
    "Sum of an array"
   ]
  },
  {
   "cell_type": "code",
   "execution_count": 13,
   "id": "820b56e4",
   "metadata": {},
   "outputs": [
    {
     "data": {
      "text/plain": [
       "10"
      ]
     },
     "execution_count": 13,
     "metadata": {},
     "output_type": "execute_result"
    }
   ],
   "source": [
    "A.sum()"
   ]
  },
  {
   "cell_type": "markdown",
   "id": "68dea358",
   "metadata": {},
   "source": [
    "Get the transpose a matrix"
   ]
  },
  {
   "cell_type": "code",
   "execution_count": 14,
   "id": "25ec9d35",
   "metadata": {},
   "outputs": [
    {
     "data": {
      "text/plain": [
       "array([[1, 3],\n",
       "       [2, 4]])"
      ]
     },
     "execution_count": 14,
     "metadata": {},
     "output_type": "execute_result"
    }
   ],
   "source": [
    "A.transpose()"
   ]
  },
  {
   "cell_type": "markdown",
   "id": "b17e4e07",
   "metadata": {},
   "source": [
    "Other useful operation from linear algebra (`np.linalg`): norm, determinant, inverse, and solve linear equations"
   ]
  },
  {
   "cell_type": "code",
   "execution_count": 15,
   "id": "4eb41417",
   "metadata": {},
   "outputs": [
    {
     "name": "stdout",
     "output_type": "stream",
     "text": [
      "5.477225575051661\n",
      "-2.0000000000000004\n",
      "[[-2.   1. ]\n",
      " [ 1.5 -0.5]]\n",
      "[[-2.   1. ]\n",
      " [ 1.5 -0.5]]\n"
     ]
    }
   ],
   "source": [
    "print(np.linalg.norm(A))\n",
    "print(np.linalg.det(A))\n",
    "print(np.linalg.inv(A))\n",
    "print(np.linalg.solve(A, B))"
   ]
  },
  {
   "cell_type": "markdown",
   "id": "a1ceea89",
   "metadata": {},
   "source": [
    "Now, we are able to construct the rest of matrices."
   ]
  },
  {
   "cell_type": "code",
   "execution_count": 16,
   "id": "89798724",
   "metadata": {},
   "outputs": [],
   "source": [
    "gamma = 0.25\n",
    "D = gamma * Z + V\n",
    "Y = beta * D + U"
   ]
  },
  {
   "cell_type": "markdown",
   "id": "22223fcc",
   "metadata": {},
   "source": [
    "Sanity check: compute the mean, variance, and correlation between $U$ and $V$"
   ]
  },
  {
   "cell_type": "code",
   "execution_count": 17,
   "id": "81f1fad1",
   "metadata": {},
   "outputs": [
    {
     "name": "stdout",
     "output_type": "stream",
     "text": [
      "-0.026050794586944755\n",
      "-0.026050794586944755\n",
      "0.9736366557398173\n",
      "0.9736366557398173\n",
      "0.9891263962001459\n"
     ]
    }
   ],
   "source": [
    "print(U.sum() / U.size)\n",
    "print(U.mean())\n",
    "\n",
    "print(np.sqrt(((U - U.mean())**2).mean()))\n",
    "print(U.std())\n",
    "\n",
    "print((U @ V) / (np.linalg.norm(U) * np.linalg.norm(V)))"
   ]
  },
  {
   "cell_type": "markdown",
   "id": "97f15c01",
   "metadata": {},
   "source": [
    "We can also compute the OLS and IV estimates: \n",
    "$$\\begin{aligned}\n",
    "    \\hat{\\beta}_{OLS} = (D'D)^{-1}(D'Y) \\\\\n",
    "    \\hat{\\beta}_{IV} = (Z'D)^{-1}(Z'Y)\n",
    "\\end{aligned}$$\n",
    "\n",
    "But before doing that, we want to _reshape_ our arrays (from 1d array to 2d arrays)."
   ]
  },
  {
   "cell_type": "code",
   "execution_count": 18,
   "id": "74529dbe",
   "metadata": {},
   "outputs": [
    {
     "data": {
      "text/plain": [
       "(1000,)"
      ]
     },
     "execution_count": 18,
     "metadata": {},
     "output_type": "execute_result"
    }
   ],
   "source": [
    "D.shape"
   ]
  },
  {
   "cell_type": "code",
   "execution_count": 19,
   "id": "58f85700",
   "metadata": {},
   "outputs": [
    {
     "name": "stdout",
     "output_type": "stream",
     "text": [
      "(1000, 1)\n"
     ]
    }
   ],
   "source": [
    "D = D.reshape(N, 1)\n",
    "print(D.shape)\n",
    "\n",
    "Y = Y.reshape(N, 1)\n",
    "Z = Z.reshape(N, 1)"
   ]
  },
  {
   "cell_type": "markdown",
   "id": "cd3bd497",
   "metadata": {},
   "source": [
    "Get the OLS and IV estimates"
   ]
  },
  {
   "cell_type": "code",
   "execution_count": 20,
   "id": "16320bc9",
   "metadata": {},
   "outputs": [
    {
     "name": "stdout",
     "output_type": "stream",
     "text": [
      "[[0.93514913]]\n",
      "[[0.00804841]]\n"
     ]
    }
   ],
   "source": [
    "beta_ols = np.linalg.inv(D.transpose() @ D) @ (D.transpose() @ Y)\n",
    "print(beta_ols)\n",
    "beta_iv = np.linalg.inv(Z.transpose() @ D) @ (Z.transpose() @ Y)\n",
    "print(beta_iv)"
   ]
  },
  {
   "cell_type": "markdown",
   "id": "611ee304",
   "metadata": {},
   "source": [
    "Recall that the the true value is 0. The IV estimate (-0.02) is very close to the true value while OLS is more biased (0.94).\n",
    "\n",
    "One might argue that the result I showed above is just from one simulation. We should do the same simulation for several times and plot the whole distribution. And that's totally correct. Before doing this, we would like to introduce OOP. \n",
    "\n",
    "---"
   ]
  },
  {
   "cell_type": "markdown",
   "id": "4237c30b",
   "metadata": {},
   "source": [
    "## Object-Oriented Programming (OOP)\n",
    "\n",
    "\n",
    "### What is OOP?\n",
    "\n",
    "OOP is a programming paradigm that focuses on the concept of classes and objects. It provides a mechanism to define new data structures with attributes and methods that are allowed only on the data structure you defined.\n",
    "\n",
    "- a class is the definition of a new data type.\n",
    "- objects are specific instances of that data type.\n",
    "\n",
    "\n",
    "### Why you should know about OOP? \n",
    "\n",
    "- OOP helps you abstract the problem and leads you to write reusable codes.\n",
    "- Understanding OOP can help you learn other packages faster (since they are usually designed based on OOP).\n",
    "    - NumPy: numpy.ndarray()\n",
    "    - Pandas: pandas.DataFrame()\n",
    "    - GeoPandas: geopandas.GeoDataFrame() (Thursday)\n",
    "    - Shapely: shaply.Polygon() (Thursday)\n",
    "    - BeautifulSoup: bs4.BeautifulSoup() (Friday) \n",
    "    - ScikitLearn: sklearn.linear_model.Lasso(), etc. \n",
    "- OOP is not a feature of Python. You can apply OOP in other langauges (MATLAB).\n",
    "\n",
    "### Let's apply OOP in building the simulation\n",
    "\n",
    "First, consider the simulation process:\n",
    "\n",
    "```\n",
    "for each iteration,\n",
    "    A data generator draws a sample (Y, D, Z)\n",
    "    An OLS estimator computes the OLS estimate using the sample data\n",
    "    An IV estimator computes the IV estimate using the sample data\n",
    "```\n",
    "\n",
    "The concept of a data generator and an estimator naturally emerge. As a result, we are going to construct this two classes: `DataGenerator` and `Estimator`. \n",
    "\n",
    "Let's start from `DataGenerator`. \n",
    "\n",
    "1. First, note that the data generating process can be uniquely determined by a few parameters in our model (i.e. $\\gamma$, $\\beta$, $\\sigma$, and $\\rho$). If two data generators have the same parameters, then we would not be able to distinguish them. These parameters are what we called **attributes** in OOP.\n",
    "2. Once we declare all the parameters, we can write a **method** that the object can use to draw a random sample $(Y_i, D_i, Z_i)$ of size $N$ from the data generating process."
   ]
  },
  {
   "cell_type": "code",
   "execution_count": 21,
   "id": "09080109",
   "metadata": {},
   "outputs": [],
   "source": [
    "class DataGenerator:\n",
    "    \n",
    "    def __init__(self, gamma, beta, sigma, rho):\n",
    "        '''\n",
    "        Initiate a DataGenerator\n",
    "        '''\n",
    "        self.seed = 42\n",
    "        self.gamma = gamma\n",
    "        self.beta = beta\n",
    "        self.sigma = sigma\n",
    "        self.rho = rho\n",
    "        np.random.seed(self.seed)\n",
    "        \n",
    "    def draw_sample(self, N):\n",
    "        '''\n",
    "        Draw a random sample of size N from the data generating process.\n",
    "        '''\n",
    "        Z = np.random.normal(0, self.sigma, N)\n",
    "        Sigma = np.array([[1, self.rho], [self.rho, 1]])\n",
    "        UV = np.random.multivariate_normal([0, 0], Sigma, N)\n",
    "        U = UV[:,0]\n",
    "        V = UV[:,1]\n",
    "        D = self.gamma * Z + V\n",
    "        Y = self.beta * D + U\n",
    "\n",
    "        Y = Y.reshape(N, 1)\n",
    "        D = D.reshape(N, 1)\n",
    "        Z = Z.reshape(N, 1)\n",
    "        \n",
    "        return (Y, D, Z)"
   ]
  },
  {
   "cell_type": "markdown",
   "id": "c7d0895d",
   "metadata": {},
   "source": [
    "That's it! Now, let's construct an `DataGenerator` object and draw a sample."
   ]
  },
  {
   "cell_type": "code",
   "execution_count": 22,
   "id": "0754f503",
   "metadata": {},
   "outputs": [],
   "source": [
    "data_generator = DataGenerator(gamma=0.25, beta=0, sigma=1, rho=0.99)\n",
    "Y, D, Z = data_generator.draw_sample(N=1000)"
   ]
  },
  {
   "cell_type": "markdown",
   "id": "0db275f3",
   "metadata": {},
   "source": [
    "Recall that the syntax of using a function was `f(a, b, c)`, which means that _we_ apply the function $f$ on $(a,b,c)$.\n",
    "\n",
    "Note that `DataGenerator.draw_sample` is called a **method** instead of a **function**. The syntax of using an object's method is `object.f(a, b)`, which means that the _object_ uses the method with $(a,b)$. In our setting, the data generator _draw_ a sample based on the input sample size $N$. We are really writing codes in human language with **subjects** and **verbs**!\n",
    "\n",
    "Now, let's construct the estimator object. Similarly we need to think about how we can describe the estimator. In this case, the most intuitive way is to specify whether we want to run use IV or not."
   ]
  },
  {
   "cell_type": "code",
   "execution_count": 23,
   "id": "4420ae71",
   "metadata": {},
   "outputs": [],
   "source": [
    "class Estimator:\n",
    "    \n",
    "    def __init__(self, spec):\n",
    "        '''\n",
    "        Initiate an Estimator\n",
    "        '''\n",
    "        self.spec = spec\n",
    "            \n",
    "    def fit(self, Y, D, Z):\n",
    "        '''\n",
    "        Estimate the OLS or IV estimate\n",
    "        '''\n",
    "        assert Y.shape[0] == D.shape[0]\n",
    "        assert D.shape[0] == Z.shape[0]\n",
    "        \n",
    "        N = Y.shape[0] \n",
    "\n",
    "        if self.spec == \"OLS\":\n",
    "            beta = np.linalg.inv(D.transpose() @ D) @ (D.transpose() @ Y)\n",
    "            beta = beta[0,0]\n",
    "        elif self.spec == \"IV\":\n",
    "            beta = np.linalg.inv(Z.transpose() @ D) @ (Z.transpose() @ Y)\n",
    "            beta = beta[0,0]\n",
    "        else:\n",
    "            beta = None\n",
    "            \n",
    "        return beta"
   ]
  },
  {
   "cell_type": "markdown",
   "id": "adb81714",
   "metadata": {},
   "source": [
    "Let's create an OLS estimator and an IV estimator:"
   ]
  },
  {
   "cell_type": "code",
   "execution_count": 24,
   "id": "0aacab4f",
   "metadata": {},
   "outputs": [
    {
     "name": "stdout",
     "output_type": "stream",
     "text": [
      "0.9362273784887223 -0.06016958682084626\n"
     ]
    }
   ],
   "source": [
    "ols_estimator = Estimator(\"OLS\")\n",
    "iv_estimator = Estimator(\"IV\")\n",
    "beta_ols = ols_estimator.fit(Y, D, Z)\n",
    "beta_iv = iv_estimator.fit(Y, D, Z)\n",
    "print(beta_ols, beta_iv)"
   ]
  },
  {
   "cell_type": "markdown",
   "id": "7f0e6913",
   "metadata": {},
   "source": [
    "Now, we are ready to convert the pseudo-code to real code and run some simulations. Recall that the pseudo-code was\n",
    "\n",
    "```\n",
    "for each iteration,\n",
    "    A data generator draws a sample (Y, D, Z)\n",
    "    An OLS estimator computes the OLS estimate using the sample data\n",
    "    An IV estimator computes the IV estimate using the sample data\n",
    "```"
   ]
  },
  {
   "cell_type": "code",
   "execution_count": 25,
   "id": "ef267b0d",
   "metadata": {},
   "outputs": [],
   "source": [
    "def simulation(data_generator, ols_estimator, iv_estimator):\n",
    "    '''\n",
    "    Generate data using data_generator and output beta_ols and beta_iv\n",
    "    '''\n",
    "    Y, D, Z = data_generator.draw_sample(N=1000)\n",
    "    beta_ols = ols_estimator.fit(Y, D, Z)\n",
    "    beta_iv = iv_estimator.fit(Y, D, Z)\n",
    "    return (beta_ols, beta_iv)\n",
    "\n",
    "\n",
    "data_generator = DataGenerator(gamma=0.25, beta=0, sigma=1, rho=0.99)\n",
    "ols_estimator = Estimator(\"OLS\")\n",
    "iv_estimator = Estimator(\"IV\")\n",
    "\n",
    "M = 10000\n",
    "result_dict = {\"OLS\":[], \"IV\":[]}\n",
    "for _ in range(M):\n",
    "    beta_ols, beta_iv = simulation(data_generator, ols_estimator, iv_estimator)\n",
    "    result_dict[\"OLS\"].append(beta_ols)\n",
    "    result_dict[\"IV\"].append(beta_iv)"
   ]
  },
  {
   "cell_type": "markdown",
   "id": "47e9d874",
   "metadata": {},
   "source": [
    "Let's plot the density of OLS and IV estimates"
   ]
  },
  {
   "cell_type": "code",
   "execution_count": 26,
   "id": "95bcc095",
   "metadata": {},
   "outputs": [
    {
     "data": {
      "image/png": "[encoded data removed]",
      "text/plain": [
       "<Figure size 432x288 with 1 Axes>"
      ]
     },
     "metadata": {
      "needs_background": "light"
     },
     "output_type": "display_data"
    }
   ],
   "source": [
    "seaborn.kdeplot(result_dict[\"OLS\"], label=\"OLS\")\n",
    "seaborn.kdeplot(result_dict[\"IV\"], label=f\"IV (gamma = {data_generator.gamma})\")\n",
    "plt.xlabel(\"beta\")\n",
    "plt.xlim([-1.5, 1.5]);\n",
    "plt.legend(loc='upper left')\n",
    "plt.show()"
   ]
  },
  {
   "cell_type": "markdown",
   "id": "c9bc30ea",
   "metadata": {},
   "source": [
    "In practice, you probably do not need to build classes for running such a simple model; I picked a simple model just for illustrating the general idea of OOP. Just as a recap, we usually do the following:\n",
    "\n",
    "1. Build a **Dataset** object that collects all the relevant data required for estimation.\n",
    "2. Build an **Estimator** object that takes in the Dataset object and output the estimates.\n",
    "\n",
    "In fact, this workflow is very commonly used in our projects that involve estimating complex structural models using customized estimation strategies, (although we mainly use Matlab for this kind of projects.) \n",
    "\n",
    "Also in Python, usually you do not need to build your own dataset and estimator object. For instance:\n",
    "\n",
    "- `pandas.DataFrame` is the most commonly used dataset object\n",
    "- `scikit-learn` provides a lot of estimation objects such as `LASSO`.\n",
    "\n",
    "---"
   ]
  },
  {
   "cell_type": "markdown",
   "id": "05fdcb77",
   "metadata": {},
   "source": [
    "## Parallel Computing"
   ]
  },
  {
   "cell_type": "markdown",
   "id": "9a2ad8a1",
   "metadata": {},
   "source": [
    "Recall that our goal is to see how the distribution of $\\hat\\beta$ changes as $\\gamma$ changes. Currently, we only estimate the $\\hat\\beta$ for one single $\\gamma$. Let's implement this new simulation to compare IV estimates from different data generating process."
   ]
  },
  {
   "cell_type": "code",
   "execution_count": 27,
   "id": "5b04bd6e",
   "metadata": {},
   "outputs": [],
   "source": [
    "gammas = [0.25, 0.20, 0.15, 0.10, 0.05, 0.025, 0]\n",
    "generators = [DataGenerator(gamma=g, beta=0, sigma=1, rho=0.99) for g in gammas]\n",
    "\n",
    "def simulation(generator):\n",
    "    \n",
    "    M = 10000\n",
    "    gamma = generator.gamma\n",
    "    estimates = []\n",
    "    \n",
    "    for _ in range(M):\n",
    "        Y, D, Z = generator.draw_sample(N=1000)\n",
    "        beta_iv = iv_estimator.fit(Y, D, Z)\n",
    "        estimates.append(beta_iv)\n",
    "        \n",
    "    estimates = np.array(estimates)\n",
    "    return {\"gamma\": gamma, \"estimates\": estimates}"
   ]
  },
  {
   "cell_type": "code",
   "execution_count": 28,
   "id": "360aa611",
   "metadata": {},
   "outputs": [
    {
     "name": "stdout",
     "output_type": "stream",
     "text": [
      "CPU times: user 11.8 s, sys: 81.6 ms, total: 11.9 s\n",
      "Wall time: 11.7 s\n"
     ]
    }
   ],
   "source": [
    "%%time\n",
    "\n",
    "results = []\n",
    "for generator in generators:\n",
    "    results.append(simulation(generator))"
   ]
  },
  {
   "cell_type": "markdown",
   "id": "f465d113",
   "metadata": {},
   "source": [
    "It took 11s to complete the simulation procedure. This is super slow. Can we do it faster?\n",
    "\n",
    "\n",
    "A key insight is that the whole simulation process for one $\\gamma$ value is completely independent of the simulation for another $\\gamma$. In scenarios like this, we should always consider _parallel computing_. The general idea is that, if the computation processes are independent, instead of running the computation on one computer, we should use several computers to compute them simultaneously.\n",
    "\n",
    "Parallel Computing is a facinating subject itself, but because of the time constraint, I will focus on the `multiprocess` package. Specifically, I'll show how we can use this package to assign the simulation tasks for different gamma to different cores of the CPU and run simulations simultaneously.\n",
    "\n",
    "First, let's get the number of CPU cores we have:"
   ]
  },
  {
   "cell_type": "code",
   "execution_count": 29,
   "id": "9c522655",
   "metadata": {},
   "outputs": [
    {
     "data": {
      "text/plain": [
       "8"
      ]
     },
     "execution_count": 29,
     "metadata": {},
     "output_type": "execute_result"
    }
   ],
   "source": [
    "n_cpu = multiprocess.cpu_count()\n",
    "n_cpu"
   ]
  },
  {
   "cell_type": "code",
   "execution_count": 30,
   "id": "fda9f8c8",
   "metadata": {},
   "outputs": [
    {
     "data": {
      "text/plain": [
       "7"
      ]
     },
     "execution_count": 30,
     "metadata": {},
     "output_type": "execute_result"
    }
   ],
   "source": [
    "num_process = min(len(gammas), n_cpu-1)\n",
    "num_process"
   ]
  },
  {
   "cell_type": "markdown",
   "id": "3b6cf80f",
   "metadata": {},
   "source": [
    "We use the `multiprocess.Pool` class, which represents a pool of worker processes. We can use its `Pool.map(f, list)` method to evaluate `f` for all elements in `list`."
   ]
  },
  {
   "cell_type": "code",
   "execution_count": 31,
   "id": "8c639b14",
   "metadata": {},
   "outputs": [
    {
     "name": "stdout",
     "output_type": "stream",
     "text": [
      "CPU times: user 14.4 ms, sys: 51.6 ms, total: 66 ms\n",
      "Wall time: 2.84 s\n"
     ]
    }
   ],
   "source": [
    "%%time\n",
    "\n",
    "with multiprocess.Pool(processes=num_process) as pool:\n",
    "    results = pool.map(simulation, generators)"
   ]
  },
  {
   "cell_type": "markdown",
   "id": "b9878283",
   "metadata": {},
   "source": [
    "It now takes less than 3 seconds to complete the simulation. You should always think about how to introduce multiprocessing whenever you are running a for-loop where the result of one iteration is independent of another one. This is especially important when you are planning to run the script on the server, since servers usually have much more cores than your laptop. For example, you may use 28 cores in one node on Acropolis.\n",
    "\n",
    "Finally, we are able to answer our question: how the distribution of $\\hat{\\beta}$ changes as we alter the magnitude of $\\gamma$?"
   ]
  },
  {
   "cell_type": "code",
   "execution_count": 32,
   "id": "b848e038",
   "metadata": {},
   "outputs": [
    {
     "data": {
      "image/png": "[encoded data removed]",
      "text/plain": [
       "<Figure size 432x288 with 1 Axes>"
      ]
     },
     "metadata": {
      "needs_background": "light"
     },
     "output_type": "display_data"
    }
   ],
   "source": [
    "for result in results:\n",
    "    gamma = result[\"gamma\"]\n",
    "    estimates = result[\"estimates\"]\n",
    "    estimates = estimates[(estimates >= -2) & (estimates <= 2)]\n",
    "    seaborn.kdeplot(estimates, label=f\"{gamma}\")\n",
    "plt.xlim([-2.5, 2.5]);\n",
    "plt.legend();"
   ]
  },
  {
   "cell_type": "markdown",
   "id": "c145a458",
   "metadata": {},
   "source": [
    "From the plot above, we can observe that as the strength of the first stage gets weaker, \n",
    "- the IV estimate becomes biased toward the OLS estimate;\n",
    "- the empirical distribution of the IV estimate is no longer bell-shaped."
   ]
  },
  {
   "cell_type": "markdown",
   "id": "457ac2cd",
   "metadata": {},
   "source": [
    "## Reference\n",
    "\n",
    "- CMSC 12100 by Borja Sotomayor\n",
    "- ECON 31720 by Alexander Torgovitsky"
   ]
  }
 ],
 "metadata": {
  "kernelspec": {
   "display_name": "Python 3",
   "language": "python",
   "name": "python3"
  },
  "language_info": {
   "codemirror_mode": {
    "name": "ipython",
    "version": 3
   },
   "file_extension": ".py",
   "mimetype": "text/x-python",
   "name": "python",
   "nbconvert_exporter": "python",
   "pygments_lexer": "ipython3",
   "version": "3.8.8"
  }
 },
 "nbformat": 4,
 "nbformat_minor": 5
}
